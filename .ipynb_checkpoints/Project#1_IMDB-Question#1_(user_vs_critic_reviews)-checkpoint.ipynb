{
 "cells": [
  {
   "cell_type": "markdown",
   "metadata": {},
   "source": [
    "# Question 1:  Who was tougher on the movies they were rating, viewers or critics?"
   ]
  },
  {
   "cell_type": "markdown",
   "metadata": {},
   "source": [
    "# Definitions"
   ]
  },
  {
   "cell_type": "markdown",
   "metadata": {},
   "source": [
    "WEIGHTED AVERAGE VOTE: IMDb registered users can cast a vote (from 1 to 10) on every released title in the database. Individual votes are then aggregated and summarized as a single IMDb rating. Users can update their votes as often as they’d like, but any new vote on the same title will overwrite the previous one, so it is one vote per title per user.\n",
    "\n",
    "METACRITIC SCORE: A Metascore is a weighted average where IMDB assigns more importance, or weight, to some critics and publications than others, based on their quality and overall stature. A movie gets a Metascore when IMDB has collected at least four critics' reviews for that movie. Metascores range from 0-100, with higher scores indicating better overall reviews. IMDB also normalizes the resulting scores (akin to \"grading on a curve\" in college), which prevents scores from clumping together."
   ]
  },
  {
   "cell_type": "markdown",
   "metadata": {},
   "source": [
    "# Set-up and Initial review"
   ]
  },
  {
   "cell_type": "code",
   "execution_count": 5,
   "metadata": {},
   "outputs": [],
   "source": [
    "# Dependencies and Setup\n",
    "import matplotlib.pyplot as plt\n",
    "import pandas as pd\n",
    "import numpy as np\n",
    "import scipy.stats as st\n",
    "\n",
    "IMDB_movies = \"IMDb_movies.csv\"\n",
    "movies_data_raw = pd.read_csv(IMDB_movies)"
   ]
  },
  {
   "cell_type": "code",
   "execution_count": 6,
   "metadata": {},
   "outputs": [
    {
     "data": {
      "text/plain": [
       "(81273, 22)"
      ]
     },
     "execution_count": 6,
     "metadata": {},
     "output_type": "execute_result"
    }
   ],
   "source": [
    "movies_data_raw.shape"
   ]
  },
  {
   "cell_type": "code",
   "execution_count": 7,
   "metadata": {},
   "outputs": [
    {
     "data": {
      "text/plain": [
       "Index(['imdb_title_id', 'title', 'original_title', 'year', 'date_published',\n",
       "       'genre', 'duration', 'country', 'language', 'director', 'writer',\n",
       "       'production_company', 'actors', 'description', 'avg_vote', 'votes',\n",
       "       'budget', 'usa_gross_income', 'worlwide_gross_income', 'metascore',\n",
       "       'reviews_from_users', 'reviews_from_critics'],\n",
       "      dtype='object')"
      ]
     },
     "execution_count": 7,
     "metadata": {},
     "output_type": "execute_result"
    }
   ],
   "source": [
    "movies_data_raw.columns"
   ]
  },
  {
   "cell_type": "code",
   "execution_count": 8,
   "metadata": {},
   "outputs": [
    {
     "data": {
      "text/html": [
       "<div>\n",
       "<style scoped>\n",
       "    .dataframe tbody tr th:only-of-type {\n",
       "        vertical-align: middle;\n",
       "    }\n",
       "\n",
       "    .dataframe tbody tr th {\n",
       "        vertical-align: top;\n",
       "    }\n",
       "\n",
       "    .dataframe thead th {\n",
       "        text-align: right;\n",
       "    }\n",
       "</style>\n",
       "<table border=\"1\" class=\"dataframe\">\n",
       "  <thead>\n",
       "    <tr style=\"text-align: right;\">\n",
       "      <th></th>\n",
       "      <th>title</th>\n",
       "      <th>avg_vote</th>\n",
       "      <th>metascore</th>\n",
       "      <th>reviews_from_users</th>\n",
       "      <th>reviews_from_critics</th>\n",
       "      <th>year</th>\n",
       "    </tr>\n",
       "  </thead>\n",
       "  <tbody>\n",
       "    <tr>\n",
       "      <td>0</td>\n",
       "      <td>The Story of the Kelly Gang</td>\n",
       "      <td>6.1</td>\n",
       "      <td>NaN</td>\n",
       "      <td>7.0</td>\n",
       "      <td>7.0</td>\n",
       "      <td>1906</td>\n",
       "    </tr>\n",
       "    <tr>\n",
       "      <td>1</td>\n",
       "      <td>Den sorte drøm</td>\n",
       "      <td>5.9</td>\n",
       "      <td>NaN</td>\n",
       "      <td>4.0</td>\n",
       "      <td>2.0</td>\n",
       "      <td>1911</td>\n",
       "    </tr>\n",
       "    <tr>\n",
       "      <td>2</td>\n",
       "      <td>Cleopatra</td>\n",
       "      <td>5.2</td>\n",
       "      <td>NaN</td>\n",
       "      <td>24.0</td>\n",
       "      <td>3.0</td>\n",
       "      <td>1912</td>\n",
       "    </tr>\n",
       "    <tr>\n",
       "      <td>3</td>\n",
       "      <td>L'Inferno</td>\n",
       "      <td>7.0</td>\n",
       "      <td>NaN</td>\n",
       "      <td>28.0</td>\n",
       "      <td>14.0</td>\n",
       "      <td>1911</td>\n",
       "    </tr>\n",
       "    <tr>\n",
       "      <td>4</td>\n",
       "      <td>From the Manger to the Cross; or, Jesus of Naz...</td>\n",
       "      <td>5.7</td>\n",
       "      <td>NaN</td>\n",
       "      <td>12.0</td>\n",
       "      <td>5.0</td>\n",
       "      <td>1912</td>\n",
       "    </tr>\n",
       "  </tbody>\n",
       "</table>\n",
       "</div>"
      ],
      "text/plain": [
       "                                               title  avg_vote  metascore  \\\n",
       "0                        The Story of the Kelly Gang       6.1        NaN   \n",
       "1                                     Den sorte drøm       5.9        NaN   \n",
       "2                                          Cleopatra       5.2        NaN   \n",
       "3                                          L'Inferno       7.0        NaN   \n",
       "4  From the Manger to the Cross; or, Jesus of Naz...       5.7        NaN   \n",
       "\n",
       "   reviews_from_users  reviews_from_critics  year  \n",
       "0                 7.0                   7.0  1906  \n",
       "1                 4.0                   2.0  1911  \n",
       "2                24.0                   3.0  1912  \n",
       "3                28.0                  14.0  1911  \n",
       "4                12.0                   5.0  1912  "
      ]
     },
     "execution_count": 8,
     "metadata": {},
     "output_type": "execute_result"
    }
   ],
   "source": [
    "movies_data = movies_data_raw.set_index(['title'])\n",
    "movies_data_reduced = movies_data_raw[['title',  'avg_vote', 'metascore', 'reviews_from_users', 'reviews_from_critics', 'year']]\n",
    "movies_data_reduced.head()"
   ]
  },
  {
   "cell_type": "markdown",
   "metadata": {},
   "source": [
    "# Data Cleaning"
   ]
  },
  {
   "cell_type": "code",
   "execution_count": 9,
   "metadata": {},
   "outputs": [
    {
     "data": {
      "text/plain": [
       "title                   81273\n",
       "avg_vote                81273\n",
       "metascore               12722\n",
       "reviews_from_users      74196\n",
       "reviews_from_critics    70286\n",
       "year                    81273\n",
       "dtype: int64"
      ]
     },
     "execution_count": 9,
     "metadata": {},
     "output_type": "execute_result"
    }
   ],
   "source": [
    "movies_data_reduced.count()"
   ]
  },
  {
   "cell_type": "markdown",
   "metadata": {},
   "source": [
    "Only 74,196 of the total movies listed in IMDB have been reviewed by viewers, and only 70,286 have been reviewed by critics.  So the first step is to eliminate the movies that do not have reviews by BOTH viewers and critics.\n",
    "\n",
    "Additionally, and more importantly, only 12,722 movies have been given a metascore - meaning they were reviewed by at least 4 critics and assigned a score rating the qulaity of the movie.  Without a metascore, we can not measure how critics rated the quality the movie. \n",
    "\n",
    "Thus, the dataset must be limited to only the movies with an assigned metascore that have also been reviwed by viewers."
   ]
  },
  {
   "cell_type": "code",
   "execution_count": 10,
   "metadata": {},
   "outputs": [
    {
     "data": {
      "text/plain": [
       "title                   12662\n",
       "avg_vote                12662\n",
       "metascore               12662\n",
       "reviews_from_users      12662\n",
       "reviews_from_critics    12662\n",
       "year                    12662\n",
       "dtype: int64"
      ]
     },
     "execution_count": 10,
     "metadata": {},
     "output_type": "execute_result"
    }
   ],
   "source": [
    "movies_data= movies_data_reduced.dropna(how='any')\n",
    "movies_data.count()"
   ]
  },
  {
   "cell_type": "markdown",
   "metadata": {},
   "source": [
    "# Review Ratings: summary stats"
   ]
  },
  {
   "cell_type": "code",
   "execution_count": 11,
   "metadata": {},
   "outputs": [
    {
     "data": {
      "text/html": [
       "<div>\n",
       "<style scoped>\n",
       "    .dataframe tbody tr th:only-of-type {\n",
       "        vertical-align: middle;\n",
       "    }\n",
       "\n",
       "    .dataframe tbody tr th {\n",
       "        vertical-align: top;\n",
       "    }\n",
       "\n",
       "    .dataframe thead th {\n",
       "        text-align: right;\n",
       "    }\n",
       "</style>\n",
       "<table border=\"1\" class=\"dataframe\">\n",
       "  <thead>\n",
       "    <tr style=\"text-align: right;\">\n",
       "      <th></th>\n",
       "      <th>Mean Rating</th>\n",
       "      <th>Median Rating</th>\n",
       "      <th>Rating Variance</th>\n",
       "      <th>Rating Std Dev</th>\n",
       "      <th>Rating SEM</th>\n",
       "    </tr>\n",
       "  </thead>\n",
       "  <tbody>\n",
       "    <tr>\n",
       "      <td>avg_vote</td>\n",
       "      <td>6.35</td>\n",
       "      <td>6.4</td>\n",
       "      <td>0.95</td>\n",
       "      <td>0.97</td>\n",
       "      <td>0.01</td>\n",
       "    </tr>\n",
       "    <tr>\n",
       "      <td>metascore</td>\n",
       "      <td>55.77</td>\n",
       "      <td>56.0</td>\n",
       "      <td>314.90</td>\n",
       "      <td>17.75</td>\n",
       "      <td>0.16</td>\n",
       "    </tr>\n",
       "  </tbody>\n",
       "</table>\n",
       "</div>"
      ],
      "text/plain": [
       "           Mean Rating  Median Rating  Rating Variance  Rating Std Dev  \\\n",
       "avg_vote          6.35            6.4             0.95            0.97   \n",
       "metascore        55.77           56.0           314.90           17.75   \n",
       "\n",
       "           Rating SEM  \n",
       "avg_vote         0.01  \n",
       "metascore        0.16  "
      ]
     },
     "execution_count": 11,
     "metadata": {},
     "output_type": "execute_result"
    }
   ],
   "source": [
    "#CALCULATE SUMARY STATS ABOUT FILM QUALITY------------------------------------------------------------------\n",
    "review_data = movies_data[['title',  'avg_vote', 'metascore']]\n",
    "\n",
    "reviews_mean = round(review_data.mean(),2)\n",
    "reviews_median = round(review_data.median(),2)\n",
    "reviews_variance = round(review_data.var(),2)\n",
    "reviews_stddev = round(review_data.std(),2)\n",
    "reviews_SEM = round(review_data.sem(),2)\n",
    "\n",
    "#CREATE DATAFRAME..........................................................................................\n",
    "reviews_summary = pd.DataFrame({\"Mean Rating\": reviews_mean,\n",
    "                              \"Median Rating\": reviews_median,\n",
    "                              \"Rating Variance\": reviews_variance,\n",
    "                              \"Rating Std Dev\": reviews_stddev,\n",
    "                              \"Rating SEM\": reviews_SEM})\n",
    "\n",
    "reviews_summary"
   ]
  },
  {
   "cell_type": "markdown",
   "metadata": {},
   "source": [
    "# Number of Reviews: summary stats"
   ]
  },
  {
   "cell_type": "code",
   "execution_count": 12,
   "metadata": {},
   "outputs": [
    {
     "data": {
      "text/html": [
       "<div>\n",
       "<style scoped>\n",
       "    .dataframe tbody tr th:only-of-type {\n",
       "        vertical-align: middle;\n",
       "    }\n",
       "\n",
       "    .dataframe tbody tr th {\n",
       "        vertical-align: top;\n",
       "    }\n",
       "\n",
       "    .dataframe thead th {\n",
       "        text-align: right;\n",
       "    }\n",
       "</style>\n",
       "<table border=\"1\" class=\"dataframe\">\n",
       "  <thead>\n",
       "    <tr style=\"text-align: right;\">\n",
       "      <th></th>\n",
       "      <th>Total # of Reviews</th>\n",
       "      <th>Mean # of Reviews</th>\n",
       "      <th>Median # of Reviews</th>\n",
       "      <th>Reviews Volume Variance</th>\n",
       "      <th>Reviews Volume Std Dev</th>\n",
       "      <th>Reviews Volume SEM</th>\n",
       "    </tr>\n",
       "  </thead>\n",
       "  <tbody>\n",
       "    <tr>\n",
       "      <td>reviews_from_users</td>\n",
       "      <td>2269464.0</td>\n",
       "      <td>179.23</td>\n",
       "      <td>71.0</td>\n",
       "      <td>122881.87</td>\n",
       "      <td>350.55</td>\n",
       "      <td>3.12</td>\n",
       "    </tr>\n",
       "    <tr>\n",
       "      <td>reviews_from_critics</td>\n",
       "      <td>1286996.0</td>\n",
       "      <td>101.64</td>\n",
       "      <td>66.0</td>\n",
       "      <td>11274.84</td>\n",
       "      <td>106.18</td>\n",
       "      <td>0.94</td>\n",
       "    </tr>\n",
       "  </tbody>\n",
       "</table>\n",
       "</div>"
      ],
      "text/plain": [
       "                      Total # of Reviews  Mean # of Reviews  \\\n",
       "reviews_from_users             2269464.0             179.23   \n",
       "reviews_from_critics           1286996.0             101.64   \n",
       "\n",
       "                      Median # of Reviews  Reviews Volume Variance  \\\n",
       "reviews_from_users                   71.0                122881.87   \n",
       "reviews_from_critics                 66.0                 11274.84   \n",
       "\n",
       "                      Reviews Volume Std Dev  Reviews Volume SEM  \n",
       "reviews_from_users                    350.55                3.12  \n",
       "reviews_from_critics                  106.18                0.94  "
      ]
     },
     "execution_count": 12,
     "metadata": {},
     "output_type": "execute_result"
    }
   ],
   "source": [
    "reviews_volume = movies_data[['reviews_from_users', 'reviews_from_critics']]\n",
    "\n",
    "vol_total = reviews_volume.sum()\n",
    "vol_means = round(reviews_volume.mean(),2)\n",
    "vol_medians = round(reviews_volume.median(),2)\n",
    "vol_variance = round(reviews_volume.var(),2)\n",
    "vol_stddev = round(reviews_volume.std(),2)\n",
    "vol_SEM = round(reviews_volume.sem(),2)\n",
    "\n",
    "#CREATE DATAFRAME..........................................................................................\n",
    "reviews_volume_stats = pd.DataFrame({\"Total # of Reviews\": vol_total,\n",
    "                                     \"Mean # of Reviews\": vol_means,\n",
    "                                     \"Median # of Reviews\": vol_medians ,\n",
    "                                     \"Reviews Volume Variance\": vol_variance,\n",
    "                                     \"Reviews Volume Std Dev\": vol_stddev,\n",
    "                                     \"Reviews Volume SEM\": vol_SEM})\n",
    "\n",
    "reviews_volume_stats"
   ]
  },
  {
   "cell_type": "markdown",
   "metadata": {},
   "source": [
    "# Scatterplots and boxplots of Average Viewer Ratings & Critic Metascores"
   ]
  },
  {
   "cell_type": "markdown",
   "metadata": {},
   "source": [
    "# Quartiles and Outliers"
   ]
  },
  {
   "cell_type": "code",
   "execution_count": 16,
   "metadata": {},
   "outputs": [
    {
     "name": "stdout",
     "output_type": "stream",
     "text": [
      "Lower Quartile of Viewer Reviews: 5.8\n",
      "Upper Quartile of Viewer Reviews: 7.0\n",
      "Viewer Review IQR: 1.2\n",
      "Outliers: below 4.0 or above 8.8\n",
      "--------------------------------------------------------------------------\n",
      "Lower Quartile of Critic Metascores: 43.0\n",
      "Upper Quartile of Critic Metascores: 69.0\n",
      "Critic Metascore IQR: 26.0\n",
      "Outliers: below 4.0 or above 108.0\n"
     ]
    }
   ],
   "source": [
    "ave_vote = movies_data['avg_vote']\n",
    "metascore = movies_data['metascore']\n",
    "\n",
    "ave_vote_quartiles = ave_vote.quantile([.25,.5,.75])\n",
    "ave_vote_lowerq = ave_vote_quartiles[0.25]\n",
    "ave_vote_upperq = ave_vote_quartiles[0.75]\n",
    "ave_vote_iqr = ave_vote_upperq-ave_vote_lowerq\n",
    "ave_vote_lower_bound = ave_vote_lowerq - (1.5*ave_vote_iqr)\n",
    "ave_vote_upper_bound = ave_vote_upperq + (1.5*ave_vote_iqr)\n",
    "\n",
    "metascore_quartiles = metascore.quantile([.25,.5,.75])\n",
    "metascore_lowerq = metascore_quartiles[0.25]\n",
    "metascore_upperq = metascore_quartiles[0.75]\n",
    "metascore_iqr = metascore_upperq-metascore_lowerq\n",
    "metascore_lower_bound = metascore_lowerq - (1.5*metascore_iqr)\n",
    "metascore_upper_bound = metascore_upperq + (1.5*metascore_iqr)\n",
    "\n",
    "print(f\"Lower Quartile of Viewer Reviews: {round(ave_vote_lowerq,2)}\")\n",
    "print(f\"Upper Quartile of Viewer Reviews: {round(ave_vote_upperq,2)}\")\n",
    "print(f\"Viewer Review IQR: {round(ave_vote_iqr,2)}\")\n",
    "print(f\"Outliers: below {round(ave_vote_lower_bound,2)} or above {round(ave_vote_upper_bound,2)}\")\n",
    "print(\"--------------------------------------------------------------------------\")\n",
    "print(f\"Lower Quartile of Critic Metascores: {round(metascore_lowerq,2)}\")\n",
    "print(f\"Upper Quartile of Critic Metascores: {round(metascore_upperq,2)}\")\n",
    "print(f\"Critic Metascore IQR: {round(metascore_iqr,2)}\")\n",
    "print(f\"Outliers: below {round(metascore_lower_bound,2)} or above {round(metascore_upper_bound,2)}\")\n"
   ]
  },
  {
   "cell_type": "code",
   "execution_count": 17,
   "metadata": {},
   "outputs": [
    {
     "data": {
      "image/png": "[encoded data removed]",
      "text/plain": [
       "<Figure size 432x288 with 1 Axes>"
      ]
     },
     "metadata": {
      "needs_background": "light"
     },
     "output_type": "display_data"
    }
   ],
   "source": [
    "fig1, ax1 = plt.subplots()\n",
    "ax1.set_title('IMDB Average Viewer Review Scores')\n",
    "ax1.set_ylabel('Average Score for Each Movie')\n",
    "ax1.set_xlabel('Viewer Ratings')\n",
    "ax1.boxplot(ave_vote)\n",
    "plt.show()"
   ]
  },
  {
   "cell_type": "code",
   "execution_count": 18,
   "metadata": {},
   "outputs": [
    {
     "data": {
      "image/png": "[encoded data removed]",
      "text/plain": [
       "<Figure size 432x288 with 1 Axes>"
      ]
     },
     "metadata": {
      "needs_background": "light"
     },
     "output_type": "display_data"
    }
   ],
   "source": [
    "fig1, ax1 = plt.subplots()\n",
    "ax1.set_title('IMDB Average Critic Metascores')\n",
    "ax1.set_ylabel('Metscore for Each Movie')\n",
    "ax1.set_xlabel('Critic Metascores')\n",
    "ax1.boxplot(metascore)\n",
    "plt.show()"
   ]
  },
  {
   "cell_type": "markdown",
   "metadata": {},
   "source": [
    "# Relationship between user scores and critic scores"
   ]
  },
  {
   "cell_type": "code",
   "execution_count": 19,
   "metadata": {
    "scrolled": true
   },
   "outputs": [
    {
     "name": "stdout",
     "output_type": "stream",
     "text": [
      "The r-squared is: 0.6930274308647507\n"
     ]
    },
    {
     "data": {
      "image/png": "[encoded data removed]",
      "text/plain": [
       "<Figure size 432x288 with 1 Axes>"
      ]
     },
     "metadata": {
      "needs_background": "light"
     },
     "output_type": "display_data"
    }
   ],
   "source": [
    "# DEPENDENCIES ------------------------------------------------------------------------------------------------\n",
    "from scipy.stats import linregress\n",
    "\n",
    "# CALCULATE VARIABLES------------------------------------------------------------------------------------------\n",
    "review_data_by_title = review_data.set_index(['title'])\n",
    "ave_vote = review_data_by_title['avg_vote']\n",
    "metascore = review_data_by_title['metascore']\n",
    "\n",
    "# PLOT GRAPH---------------------------------------------------------------------------------------------------\n",
    "x_values = ave_vote\n",
    "y_values = metascore\n",
    "(slope, intercept, rvalue, pvalue, stderr) = linregress(x_values, y_values)\n",
    "regress_values = x_values * slope + intercept\n",
    "line_eq = \"y = \" + str(round(slope,2)) + \"x + \" + str(round(intercept,2))\n",
    "plt.scatter(x_values,y_values)\n",
    "plt.plot(x_values,regress_values,\"r-\")\n",
    "plt.annotate(line_eq,(6,0),fontsize=12,color=\"red\")\n",
    "plt.title('Viewer Ratings vs. Critic Ratings')\n",
    "plt.xlabel('Average IMDB Viewer Rating')\n",
    "plt.ylabel('IMDB Critic Metascore')\n",
    "print(f\"The r-squared is: {rvalue}\")\n",
    "plt.show()"
   ]
  },
  {
   "cell_type": "markdown",
   "metadata": {},
   "source": [
    "OBSERVATIONS: \n",
    "\n",
    "Overall, There is a positive correlation between higher viewer scores and critic metascores.\n",
    "\n",
    "There are a far greater numbers of overall user reviews than critic reviews, but more consitstency (less variance and Standard deviation) in the number of critic reviews of any given movie recived vs. the number of user reviews each movie recieved. \n",
    "\n",
    "However, there seems to be much more variability (variance and standard deviation) in the quality ratings given to movies by critics than by users. That is to say, even if each movie was reviewed by more viewers than critics, there was more consistency among what the viwers thought of the quality of the movie than what the critics thought. It should also be noted that there are may more outliers present in the viwer review data than the critic metascores, but this in part reflects that the metscores have been set to a normal curve as part of IMDB's methodology.\n",
    "\n",
    "As far as a direct comparison of how well users rated movie vs. critics, we have to keep in mind that according to the metascore methodology applied by IMDB, the critic review metascores are already normalized (i.e. adjusted to a normal curve). Additionally, the viewer ratings are scales from 1-10 while the metascores are scaled 1-100, so they may not be directly comparable without additional statistial analysis. However, if we compare the average criitc metascore relative to its range (1-100) to the average voter score relative to its range (1-10), viwers do seem to rate movies overall slight more favorably than critics. "
   ]
  },
  {
   "cell_type": "markdown",
   "metadata": {},
   "source": [
    "# Review stats broken down by decade"
   ]
  },
  {
   "cell_type": "code",
   "execution_count": 20,
   "metadata": {},
   "outputs": [
    {
     "data": {
      "text/plain": [
       "1916"
      ]
     },
     "execution_count": 20,
     "metadata": {},
     "output_type": "execute_result"
    }
   ],
   "source": [
    "earliest_film = movies_data['year'].min()\n",
    "earliest_film"
   ]
  },
  {
   "cell_type": "code",
   "execution_count": 21,
   "metadata": {},
   "outputs": [
    {
     "data": {
      "text/plain": [
       "2019"
      ]
     },
     "execution_count": 21,
     "metadata": {},
     "output_type": "execute_result"
    }
   ],
   "source": [
    "most_recent_film = movies_data['year'].max()\n",
    "most_recent_film"
   ]
  },
  {
   "cell_type": "code",
   "execution_count": 22,
   "metadata": {},
   "outputs": [
    {
     "name": "stderr",
     "output_type": "stream",
     "text": [
      "C:\\Users\\Purvi Patel\\Anaconda3\\lib\\site-packages\\ipykernel_launcher.py:5: SettingWithCopyWarning: \n",
      "A value is trying to be set on a copy of a slice from a DataFrame.\n",
      "Try using .loc[row_indexer,col_indexer] = value instead\n",
      "\n",
      "See the caveats in the documentation: http://pandas.pydata.org/pandas-docs/stable/user_guide/indexing.html#returning-a-view-versus-a-copy\n",
      "  \"\"\"\n"
     ]
    }
   ],
   "source": [
    "#CREATE BINS BY DECADE ------------------------------------------------------------------------------------------\n",
    "decade = [1910, 1919, 1929, 1939, 1949, 1959, 1969, 1979, 1989, 1999, 2009, 2019]\n",
    "decade_names = [\"1910s\", \"1920s\", \"1930s\", \"1940s\", \"1950s\", \"1960s\", \"1970s\", \"1980s\", \"1990s\", \"2000s\", \"2010s\"]\n",
    "\n",
    "movies_data[\"Decade\"] = pd.cut(movies_data[\"year\"], decade, labels=decade_names)"
   ]
  },
  {
   "cell_type": "code",
   "execution_count": 23,
   "metadata": {},
   "outputs": [
    {
     "name": "stdout",
     "output_type": "stream",
     "text": [
      "Decade\n",
      "1910s       1\n",
      "1920s       4\n",
      "1930s      25\n",
      "1940s      39\n",
      "1950s      89\n",
      "1960s     208\n",
      "1970s     400\n",
      "1980s     880\n",
      "1990s    1403\n",
      "2000s    4050\n",
      "2010s    5563\n",
      "Name: year, dtype: int64\n"
     ]
    },
    {
     "data": {
      "text/html": [
       "<div>\n",
       "<style scoped>\n",
       "    .dataframe tbody tr th:only-of-type {\n",
       "        vertical-align: middle;\n",
       "    }\n",
       "\n",
       "    .dataframe tbody tr th {\n",
       "        vertical-align: top;\n",
       "    }\n",
       "\n",
       "    .dataframe thead th {\n",
       "        text-align: right;\n",
       "    }\n",
       "</style>\n",
       "<table border=\"1\" class=\"dataframe\">\n",
       "  <thead>\n",
       "    <tr style=\"text-align: right;\">\n",
       "      <th></th>\n",
       "      <th>Average Viewer Rating</th>\n",
       "      <th>Average Critic Metascore</th>\n",
       "      <th>Ave # Viewer Reviews per movie</th>\n",
       "      <th>Ave # Critic Reviews per movie</th>\n",
       "      <th>Number of Movies</th>\n",
       "    </tr>\n",
       "    <tr>\n",
       "      <th>Decade</th>\n",
       "      <th></th>\n",
       "      <th></th>\n",
       "      <th></th>\n",
       "      <th></th>\n",
       "      <th></th>\n",
       "    </tr>\n",
       "  </thead>\n",
       "  <tbody>\n",
       "    <tr>\n",
       "      <td>1910s</td>\n",
       "      <td>7.80</td>\n",
       "      <td>93.00</td>\n",
       "      <td>105.00</td>\n",
       "      <td>77.00</td>\n",
       "      <td>1</td>\n",
       "    </tr>\n",
       "    <tr>\n",
       "      <td>1920s</td>\n",
       "      <td>7.55</td>\n",
       "      <td>85.75</td>\n",
       "      <td>231.00</td>\n",
       "      <td>83.75</td>\n",
       "      <td>4</td>\n",
       "    </tr>\n",
       "    <tr>\n",
       "      <td>1930s</td>\n",
       "      <td>7.60</td>\n",
       "      <td>87.40</td>\n",
       "      <td>252.24</td>\n",
       "      <td>100.92</td>\n",
       "      <td>25</td>\n",
       "    </tr>\n",
       "    <tr>\n",
       "      <td>1940s</td>\n",
       "      <td>7.58</td>\n",
       "      <td>84.95</td>\n",
       "      <td>253.51</td>\n",
       "      <td>92.92</td>\n",
       "      <td>39</td>\n",
       "    </tr>\n",
       "    <tr>\n",
       "      <td>1950s</td>\n",
       "      <td>7.64</td>\n",
       "      <td>81.33</td>\n",
       "      <td>200.39</td>\n",
       "      <td>85.40</td>\n",
       "      <td>89</td>\n",
       "    </tr>\n",
       "    <tr>\n",
       "      <td>1960s</td>\n",
       "      <td>7.32</td>\n",
       "      <td>72.80</td>\n",
       "      <td>182.25</td>\n",
       "      <td>74.41</td>\n",
       "      <td>208</td>\n",
       "    </tr>\n",
       "    <tr>\n",
       "      <td>1970s</td>\n",
       "      <td>6.93</td>\n",
       "      <td>65.12</td>\n",
       "      <td>176.79</td>\n",
       "      <td>77.35</td>\n",
       "      <td>400</td>\n",
       "    </tr>\n",
       "    <tr>\n",
       "      <td>1980s</td>\n",
       "      <td>6.51</td>\n",
       "      <td>55.06</td>\n",
       "      <td>154.97</td>\n",
       "      <td>69.39</td>\n",
       "      <td>880</td>\n",
       "    </tr>\n",
       "    <tr>\n",
       "      <td>1990s</td>\n",
       "      <td>6.54</td>\n",
       "      <td>56.70</td>\n",
       "      <td>209.16</td>\n",
       "      <td>68.63</td>\n",
       "      <td>1403</td>\n",
       "    </tr>\n",
       "    <tr>\n",
       "      <td>2000s</td>\n",
       "      <td>6.34</td>\n",
       "      <td>53.94</td>\n",
       "      <td>204.42</td>\n",
       "      <td>97.89</td>\n",
       "      <td>4050</td>\n",
       "    </tr>\n",
       "    <tr>\n",
       "      <td>2010s</td>\n",
       "      <td>6.17</td>\n",
       "      <td>54.89</td>\n",
       "      <td>156.04</td>\n",
       "      <td>120.90</td>\n",
       "      <td>5563</td>\n",
       "    </tr>\n",
       "  </tbody>\n",
       "</table>\n",
       "</div>"
      ],
      "text/plain": [
       "       Average Viewer Rating Average Critic Metascore  \\\n",
       "Decade                                                  \n",
       "1910s                   7.80                    93.00   \n",
       "1920s                   7.55                    85.75   \n",
       "1930s                   7.60                    87.40   \n",
       "1940s                   7.58                    84.95   \n",
       "1950s                   7.64                    81.33   \n",
       "1960s                   7.32                    72.80   \n",
       "1970s                   6.93                    65.12   \n",
       "1980s                   6.51                    55.06   \n",
       "1990s                   6.54                    56.70   \n",
       "2000s                   6.34                    53.94   \n",
       "2010s                   6.17                    54.89   \n",
       "\n",
       "       Ave # Viewer Reviews per movie Ave # Critic Reviews per movie  \\\n",
       "Decade                                                                 \n",
       "1910s                          105.00                          77.00   \n",
       "1920s                          231.00                          83.75   \n",
       "1930s                          252.24                         100.92   \n",
       "1940s                          253.51                          92.92   \n",
       "1950s                          200.39                          85.40   \n",
       "1960s                          182.25                          74.41   \n",
       "1970s                          176.79                          77.35   \n",
       "1980s                          154.97                          69.39   \n",
       "1990s                          209.16                          68.63   \n",
       "2000s                          204.42                          97.89   \n",
       "2010s                          156.04                         120.90   \n",
       "\n",
       "        Number of Movies  \n",
       "Decade                    \n",
       "1910s                  1  \n",
       "1920s                  4  \n",
       "1930s                 25  \n",
       "1940s                 39  \n",
       "1950s                 89  \n",
       "1960s                208  \n",
       "1970s                400  \n",
       "1980s                880  \n",
       "1990s               1403  \n",
       "2000s               4050  \n",
       "2010s               5563  "
      ]
     },
     "execution_count": 23,
     "metadata": {},
     "output_type": "execute_result"
    }
   ],
   "source": [
    "# GROUPBY DECADE BINS---------------------------------------------------------------------------------------------\n",
    "decade_group = movies_data.groupby('Decade')\n",
    "number_of_movies = decade_group[\"year\"].count()\n",
    "print(number_of_movies)\n",
    "\n",
    "# CALCULATE DECADE STATS---------------------------------------------------------------------------------------------\n",
    "decade_summary = decade_group[[\"avg_vote\", \"metascore\", \"reviews_from_users\", \"reviews_from_critics\"]].mean()\n",
    "\n",
    "# FORMAT OUTPUTS----------------------------------------------------------------------------------------------------\n",
    "decade_summary[\"avg_vote\"] = decade_summary[\"avg_vote\"].map(\"{:.2f}\".format)\n",
    "decade_summary[\"metascore\"] = decade_summary[\"metascore\"].map(\"{:.2f}\".format)\n",
    "decade_summary[\"reviews_from_users\"] = decade_summary[\"reviews_from_users\"].map(\"{:.2f}\".format)\n",
    "decade_summary[\"reviews_from_critics\"] = decade_summary[\"reviews_from_critics\"].map(\"{:.2f}\".format)\n",
    "\n",
    "# ADD A COLUMN FOR NUMBER OF MOVIES IN IMDB FOR EACH DECADE---------------------------------------------------------\n",
    "decade_summary[\"Number of Movies\"]= number_of_movies\n",
    "\n",
    "# RELABEL DATAFRAME COLUMNS-----------------------------------------------------------------------------------------\n",
    "decade_summary_renamed = decade_summary.rename(columns={\"avg_vote\":\"Average Viewer Rating\", \"metascore\":\"Average Critic Metascore\", \"reviews_from_users\":\"Ave # Viewer Reviews per movie\", \"reviews_from_critics\":\"Ave # Critic Reviews per movie\"})\n",
    "\n",
    "decade_summary_renamed"
   ]
  },
  {
   "cell_type": "markdown",
   "metadata": {},
   "source": [
    "OBSERVATIONS: \n",
    "\n",
    "On average, both viwers and critics rated movies from the 1960s and earlier higher than movies made in the 1970s and after. However, the vast majority of the movies in IMDB were made in the 1970s and afterwards.  It could be that the better the quality of movies made before 1070, the more likely it is to be listed and reviewed on IMDB.  More recent movies might be more likely to be listed on IMDB regardless of quality, thus bring the average scores for reviews of recent movies down. "
   ]
  },
  {
   "cell_type": "markdown",
   "metadata": {},
   "source": [
    "# Viewer vs Critic Ratings for top 100 movies"
   ]
  },
  {
   "cell_type": "markdown",
   "metadata": {},
   "source": [
    "# Viewers' Top 100 Movies"
   ]
  },
  {
   "cell_type": "code",
   "execution_count": 40,
   "metadata": {},
   "outputs": [
    {
     "data": {
      "text/html": [
       "<div>\n",
       "<style scoped>\n",
       "    .dataframe tbody tr th:only-of-type {\n",
       "        vertical-align: middle;\n",
       "    }\n",
       "\n",
       "    .dataframe tbody tr th {\n",
       "        vertical-align: top;\n",
       "    }\n",
       "\n",
       "    .dataframe thead th {\n",
       "        text-align: right;\n",
       "    }\n",
       "</style>\n",
       "<table border=\"1\" class=\"dataframe\">\n",
       "  <thead>\n",
       "    <tr style=\"text-align: right;\">\n",
       "      <th></th>\n",
       "      <th>title</th>\n",
       "      <th>Average Viewer Rating</th>\n",
       "      <th>Average Critic Metascore</th>\n",
       "      <th># Viewer Reviews</th>\n",
       "      <th># Critic Reviews</th>\n",
       "      <th>year</th>\n",
       "      <th>Decade</th>\n",
       "    </tr>\n",
       "  </thead>\n",
       "  <tbody>\n",
       "    <tr>\n",
       "      <td>27628</td>\n",
       "      <td>The Shawshank Redemption</td>\n",
       "      <td>9.3</td>\n",
       "      <td>80.0</td>\n",
       "      <td>7029.0</td>\n",
       "      <td>224.0</td>\n",
       "      <td>1994</td>\n",
       "      <td>1990s</td>\n",
       "    </tr>\n",
       "    <tr>\n",
       "      <td>14943</td>\n",
       "      <td>The Godfather</td>\n",
       "      <td>9.2</td>\n",
       "      <td>100.0</td>\n",
       "      <td>3362.0</td>\n",
       "      <td>241.0</td>\n",
       "      <td>1972</td>\n",
       "      <td>1970s</td>\n",
       "    </tr>\n",
       "    <tr>\n",
       "      <td>15954</td>\n",
       "      <td>The Godfather: Part II</td>\n",
       "      <td>9.0</td>\n",
       "      <td>90.0</td>\n",
       "      <td>857.0</td>\n",
       "      <td>172.0</td>\n",
       "      <td>1974</td>\n",
       "      <td>1970s</td>\n",
       "    </tr>\n",
       "    <tr>\n",
       "      <td>46756</td>\n",
       "      <td>The Dark Knight</td>\n",
       "      <td>9.0</td>\n",
       "      <td>84.0</td>\n",
       "      <td>6344.0</td>\n",
       "      <td>418.0</td>\n",
       "      <td>2008</td>\n",
       "      <td>2000s</td>\n",
       "    </tr>\n",
       "    <tr>\n",
       "      <td>26817</td>\n",
       "      <td>Schindler's List</td>\n",
       "      <td>8.9</td>\n",
       "      <td>94.0</td>\n",
       "      <td>1642.0</td>\n",
       "      <td>221.0</td>\n",
       "      <td>1993</td>\n",
       "      <td>1990s</td>\n",
       "    </tr>\n",
       "  </tbody>\n",
       "</table>\n",
       "</div>"
      ],
      "text/plain": [
       "                          title  Average Viewer Rating  \\\n",
       "27628  The Shawshank Redemption                    9.3   \n",
       "14943             The Godfather                    9.2   \n",
       "15954    The Godfather: Part II                    9.0   \n",
       "46756           The Dark Knight                    9.0   \n",
       "26817          Schindler's List                    8.9   \n",
       "\n",
       "       Average Critic Metascore  # Viewer Reviews  # Critic Reviews  year  \\\n",
       "27628                      80.0            7029.0             224.0  1994   \n",
       "14943                     100.0            3362.0             241.0  1972   \n",
       "15954                      90.0             857.0             172.0  1974   \n",
       "46756                      84.0            6344.0             418.0  2008   \n",
       "26817                      94.0            1642.0             221.0  1993   \n",
       "\n",
       "      Decade  \n",
       "27628  1990s  \n",
       "14943  1970s  \n",
       "15954  1970s  \n",
       "46756  2000s  \n",
       "26817  1990s  "
      ]
     },
     "execution_count": 40,
     "metadata": {},
     "output_type": "execute_result"
    }
   ],
   "source": [
    "movies_data_viewers_descending = movies_data.sort_values(\"avg_vote\", ascending=False)\n",
    "viewer_best_unlabeled = movies_data_viewers_descending.head(100)\n",
    "viewer_best = viewer_best_unlabeled.rename(columns={\"avg_vote\":\"Average Viewer Rating\", \"metascore\":\"Average Critic Metascore\", \"reviews_from_users\":\"# Viewer Reviews\", \"reviews_from_critics\":\"# Critic Reviews\"})\n",
    "\n",
    "viewer_best.head()"
   ]
  },
  {
   "cell_type": "code",
   "execution_count": 42,
   "metadata": {},
   "outputs": [
    {
     "data": {
      "text/html": [
       "<div>\n",
       "<style scoped>\n",
       "    .dataframe tbody tr th:only-of-type {\n",
       "        vertical-align: middle;\n",
       "    }\n",
       "\n",
       "    .dataframe tbody tr th {\n",
       "        vertical-align: top;\n",
       "    }\n",
       "\n",
       "    .dataframe thead th {\n",
       "        text-align: right;\n",
       "    }\n",
       "</style>\n",
       "<table border=\"1\" class=\"dataframe\">\n",
       "  <thead>\n",
       "    <tr style=\"text-align: right;\">\n",
       "      <th></th>\n",
       "      <th>Average Viewer Rating</th>\n",
       "      <th>Average Metascore</th>\n",
       "      <th>Average # Viewer Reviews per movie</th>\n",
       "      <th>Average # Critic Reviews per movie</th>\n",
       "      <th>Average Year of Release</th>\n",
       "    </tr>\n",
       "  </thead>\n",
       "  <tbody>\n",
       "    <tr>\n",
       "      <td>0</td>\n",
       "      <td>8.525</td>\n",
       "      <td>81.76</td>\n",
       "      <td>1444.18</td>\n",
       "      <td>245.75</td>\n",
       "      <td>1990.8</td>\n",
       "    </tr>\n",
       "  </tbody>\n",
       "</table>\n",
       "</div>"
      ],
      "text/plain": [
       "   Average Viewer Rating  Average Metascore  \\\n",
       "0                  8.525              81.76   \n",
       "\n",
       "   Average # Viewer Reviews per movie  Average # Critic Reviews per movie  \\\n",
       "0                             1444.18                              245.75   \n",
       "\n",
       "   Average Year of Release  \n",
       "0                   1990.8  "
      ]
     },
     "execution_count": 42,
     "metadata": {},
     "output_type": "execute_result"
    }
   ],
   "source": [
    "viewer_best_avescore = viewer_best[\"Average Viewer Rating\"].mean()\n",
    "viewer_best_metascore = viewer_best[\"Average Critic Metascore\"].mean()\n",
    "viewer_best_viewernum = viewer_best[\"# Viewer Reviews\"].mean()\n",
    "viewer_best_criticnum = viewer_best[\"# Critic Reviews\"].mean()\n",
    "viewer_best_aveyear = viewer_best[\"year\"].mean()\n",
    "\n",
    "viewer_best_summary = pd.DataFrame({\"Average Viewer Rating\": [viewer_best_avescore],\n",
    "                                  \"Average Metascore\": [viewer_best_metascore],\n",
    "                                  \"Average # Viewer Reviews per movie\": [viewer_best_viewernum],\n",
    "                                  \"Average # Critic Reviews per movie\": [viewer_best_criticnum],\n",
    "                                  \"Average Year of Release\": [viewer_best_aveyear]})\n",
    "\n",
    "viewer_best_summary"
   ]
  },
  {
   "cell_type": "markdown",
   "metadata": {},
   "source": [
    "# Critics' Top 100 Movies"
   ]
  },
  {
   "cell_type": "code",
   "execution_count": 43,
   "metadata": {},
   "outputs": [
    {
     "data": {
      "text/html": [
       "<div>\n",
       "<style scoped>\n",
       "    .dataframe tbody tr th:only-of-type {\n",
       "        vertical-align: middle;\n",
       "    }\n",
       "\n",
       "    .dataframe tbody tr th {\n",
       "        vertical-align: top;\n",
       "    }\n",
       "\n",
       "    .dataframe thead th {\n",
       "        text-align: right;\n",
       "    }\n",
       "</style>\n",
       "<table border=\"1\" class=\"dataframe\">\n",
       "  <thead>\n",
       "    <tr style=\"text-align: right;\">\n",
       "      <th></th>\n",
       "      <th>title</th>\n",
       "      <th>Average Viewer Rating</th>\n",
       "      <th>Average Critic Metascore</th>\n",
       "      <th># Viewer Reviews</th>\n",
       "      <th># Critic Reviews</th>\n",
       "      <th>year</th>\n",
       "      <th>Decade</th>\n",
       "    </tr>\n",
       "  </thead>\n",
       "  <tbody>\n",
       "    <tr>\n",
       "      <td>8912</td>\n",
       "      <td>Sweet Smell of Success</td>\n",
       "      <td>8.1</td>\n",
       "      <td>100.0</td>\n",
       "      <td>143.0</td>\n",
       "      <td>127.0</td>\n",
       "      <td>1957</td>\n",
       "      <td>1950s</td>\n",
       "    </tr>\n",
       "    <tr>\n",
       "      <td>3277</td>\n",
       "      <td>The Wizard of Oz</td>\n",
       "      <td>8.0</td>\n",
       "      <td>100.0</td>\n",
       "      <td>641.0</td>\n",
       "      <td>160.0</td>\n",
       "      <td>1939</td>\n",
       "      <td>1930s</td>\n",
       "    </tr>\n",
       "    <tr>\n",
       "      <td>51644</td>\n",
       "      <td>Boyhood</td>\n",
       "      <td>7.9</td>\n",
       "      <td>100.0</td>\n",
       "      <td>949.0</td>\n",
       "      <td>576.0</td>\n",
       "      <td>2014</td>\n",
       "      <td>2010s</td>\n",
       "    </tr>\n",
       "    <tr>\n",
       "      <td>12019</td>\n",
       "      <td>Au hasard Balthazar</td>\n",
       "      <td>7.9</td>\n",
       "      <td>100.0</td>\n",
       "      <td>77.0</td>\n",
       "      <td>109.0</td>\n",
       "      <td>1966</td>\n",
       "      <td>1960s</td>\n",
       "    </tr>\n",
       "    <tr>\n",
       "      <td>7738</td>\n",
       "      <td>Rear Window</td>\n",
       "      <td>8.4</td>\n",
       "      <td>100.0</td>\n",
       "      <td>759.0</td>\n",
       "      <td>145.0</td>\n",
       "      <td>1954</td>\n",
       "      <td>1950s</td>\n",
       "    </tr>\n",
       "  </tbody>\n",
       "</table>\n",
       "</div>"
      ],
      "text/plain": [
       "                        title  Average Viewer Rating  \\\n",
       "8912   Sweet Smell of Success                    8.1   \n",
       "3277         The Wizard of Oz                    8.0   \n",
       "51644                 Boyhood                    7.9   \n",
       "12019     Au hasard Balthazar                    7.9   \n",
       "7738              Rear Window                    8.4   \n",
       "\n",
       "       Average Critic Metascore  # Viewer Reviews  # Critic Reviews  year  \\\n",
       "8912                      100.0             143.0             127.0  1957   \n",
       "3277                      100.0             641.0             160.0  1939   \n",
       "51644                     100.0             949.0             576.0  2014   \n",
       "12019                     100.0              77.0             109.0  1966   \n",
       "7738                      100.0             759.0             145.0  1954   \n",
       "\n",
       "      Decade  \n",
       "8912   1950s  \n",
       "3277   1930s  \n",
       "51644  2010s  \n",
       "12019  1960s  \n",
       "7738   1950s  "
      ]
     },
     "execution_count": 43,
     "metadata": {},
     "output_type": "execute_result"
    }
   ],
   "source": [
    "movies_data_critics_descending = movies_data.sort_values(\"metascore\", ascending=False)\n",
    "critic_best_unlabeled = movies_data_critics_descending.head(100)\n",
    "critic_best = critic_best_unlabeled.rename(columns={\"avg_vote\":\"Average Viewer Rating\", \"metascore\":\"Average Critic Metascore\", \"reviews_from_users\":\"# Viewer Reviews\", \"reviews_from_critics\":\"# Critic Reviews\"})\n",
    "\n",
    "critic_best.head()"
   ]
  },
  {
   "cell_type": "code",
   "execution_count": 44,
   "metadata": {},
   "outputs": [
    {
     "data": {
      "text/html": [
       "<div>\n",
       "<style scoped>\n",
       "    .dataframe tbody tr th:only-of-type {\n",
       "        vertical-align: middle;\n",
       "    }\n",
       "\n",
       "    .dataframe tbody tr th {\n",
       "        vertical-align: top;\n",
       "    }\n",
       "\n",
       "    .dataframe thead th {\n",
       "        text-align: right;\n",
       "    }\n",
       "</style>\n",
       "<table border=\"1\" class=\"dataframe\">\n",
       "  <thead>\n",
       "    <tr style=\"text-align: right;\">\n",
       "      <th></th>\n",
       "      <th>Average Viewer Rating</th>\n",
       "      <th>Average Metascore</th>\n",
       "      <th>Average # Viewer Reviews per movie</th>\n",
       "      <th>Average # Critic Reviews per movie</th>\n",
       "      <th>Average Year of Release</th>\n",
       "    </tr>\n",
       "  </thead>\n",
       "  <tbody>\n",
       "    <tr>\n",
       "      <td>0</td>\n",
       "      <td>7.989</td>\n",
       "      <td>96.58</td>\n",
       "      <td>542.83</td>\n",
       "      <td>211.76</td>\n",
       "      <td>1973.07</td>\n",
       "    </tr>\n",
       "  </tbody>\n",
       "</table>\n",
       "</div>"
      ],
      "text/plain": [
       "   Average Viewer Rating  Average Metascore  \\\n",
       "0                  7.989              96.58   \n",
       "\n",
       "   Average # Viewer Reviews per movie  Average # Critic Reviews per movie  \\\n",
       "0                              542.83                              211.76   \n",
       "\n",
       "   Average Year of Release  \n",
       "0                  1973.07  "
      ]
     },
     "execution_count": 44,
     "metadata": {},
     "output_type": "execute_result"
    }
   ],
   "source": [
    "critic_best_avescore = critic_best[\"Average Viewer Rating\"].mean()\n",
    "critic_best_metascore = critic_best[\"Average Critic Metascore\"].mean()\n",
    "critic_best_viewernum = critic_best[\"# Viewer Reviews\"].mean()\n",
    "critic_best_criticnum = critic_best[\"# Critic Reviews\"].mean()\n",
    "critic_best_aveyear = critic_best[\"year\"].mean()\n",
    "\n",
    "critic_best_movies = pd.DataFrame({\"Average Viewer Rating\": [critic_best_avescore],\n",
    "                                  \"Average Metascore\": [critic_best_metascore],\n",
    "                                  \"Average # Viewer Reviews per movie\": [critic_best_viewernum],\n",
    "                                  \"Average # Critic Reviews per movie\": [critic_best_criticnum],\n",
    "                                  \"Average Year of Release\": [critic_best_aveyear]})\n",
    "\n",
    "critic_best_movies"
   ]
  },
  {
   "cell_type": "markdown",
   "metadata": {},
   "source": [
    "# Viewers' Bottom 100 Movies"
   ]
  },
  {
   "cell_type": "code",
   "execution_count": 46,
   "metadata": {},
   "outputs": [
    {
     "data": {
      "text/html": [
       "<div>\n",
       "<style scoped>\n",
       "    .dataframe tbody tr th:only-of-type {\n",
       "        vertical-align: middle;\n",
       "    }\n",
       "\n",
       "    .dataframe tbody tr th {\n",
       "        vertical-align: top;\n",
       "    }\n",
       "\n",
       "    .dataframe thead th {\n",
       "        text-align: right;\n",
       "    }\n",
       "</style>\n",
       "<table border=\"1\" class=\"dataframe\">\n",
       "  <thead>\n",
       "    <tr style=\"text-align: right;\">\n",
       "      <th></th>\n",
       "      <th>title</th>\n",
       "      <th>Average Viewer Rating</th>\n",
       "      <th>Average Critic Metascore</th>\n",
       "      <th># Viewer Reviews</th>\n",
       "      <th># Critic Reviews</th>\n",
       "      <th>year</th>\n",
       "      <th>Decade</th>\n",
       "    </tr>\n",
       "  </thead>\n",
       "  <tbody>\n",
       "    <tr>\n",
       "      <td>70807</td>\n",
       "      <td>Saving Christmas</td>\n",
       "      <td>1.4</td>\n",
       "      <td>18.0</td>\n",
       "      <td>156.0</td>\n",
       "      <td>27.0</td>\n",
       "      <td>2014</td>\n",
       "      <td>2010s</td>\n",
       "    </tr>\n",
       "    <tr>\n",
       "      <td>37709</td>\n",
       "      <td>The Price of Air</td>\n",
       "      <td>1.7</td>\n",
       "      <td>8.0</td>\n",
       "      <td>6.0</td>\n",
       "      <td>14.0</td>\n",
       "      <td>2000</td>\n",
       "      <td>2000s</td>\n",
       "    </tr>\n",
       "    <tr>\n",
       "      <td>38202</td>\n",
       "      <td>Superbabies: Baby Geniuses 2</td>\n",
       "      <td>1.9</td>\n",
       "      <td>9.0</td>\n",
       "      <td>127.0</td>\n",
       "      <td>36.0</td>\n",
       "      <td>2004</td>\n",
       "      <td>2000s</td>\n",
       "    </tr>\n",
       "    <tr>\n",
       "      <td>53363</td>\n",
       "      <td>Disaster Movie</td>\n",
       "      <td>1.9</td>\n",
       "      <td>15.0</td>\n",
       "      <td>399.0</td>\n",
       "      <td>110.0</td>\n",
       "      <td>2008</td>\n",
       "      <td>2000s</td>\n",
       "    </tr>\n",
       "    <tr>\n",
       "      <td>40967</td>\n",
       "      <td>The Singing Forest</td>\n",
       "      <td>1.9</td>\n",
       "      <td>1.0</td>\n",
       "      <td>36.0</td>\n",
       "      <td>4.0</td>\n",
       "      <td>2003</td>\n",
       "      <td>2000s</td>\n",
       "    </tr>\n",
       "  </tbody>\n",
       "</table>\n",
       "</div>"
      ],
      "text/plain": [
       "                              title  Average Viewer Rating  \\\n",
       "70807              Saving Christmas                    1.4   \n",
       "37709              The Price of Air                    1.7   \n",
       "38202  Superbabies: Baby Geniuses 2                    1.9   \n",
       "53363                Disaster Movie                    1.9   \n",
       "40967            The Singing Forest                    1.9   \n",
       "\n",
       "       Average Critic Metascore  # Viewer Reviews  # Critic Reviews  year  \\\n",
       "70807                      18.0             156.0              27.0  2014   \n",
       "37709                       8.0               6.0              14.0  2000   \n",
       "38202                       9.0             127.0              36.0  2004   \n",
       "53363                      15.0             399.0             110.0  2008   \n",
       "40967                       1.0              36.0               4.0  2003   \n",
       "\n",
       "      Decade  \n",
       "70807  2010s  \n",
       "37709  2000s  \n",
       "38202  2000s  \n",
       "53363  2000s  \n",
       "40967  2000s  "
      ]
     },
     "execution_count": 46,
     "metadata": {},
     "output_type": "execute_result"
    }
   ],
   "source": [
    "movies_data_viewers_ascending = movies_data.sort_values(\"avg_vote\", ascending=True)\n",
    "viewer_worst_unlabeled = movies_data_viewers_ascending.head(100)\n",
    "viewer_worst = viewer_worst_unlabeled.rename(columns={\"avg_vote\":\"Average Viewer Rating\", \"metascore\":\"Average Critic Metascore\", \"reviews_from_users\":\"# Viewer Reviews\", \"reviews_from_critics\":\"# Critic Reviews\"})\n",
    "\n",
    "viewer_worst.head()"
   ]
  },
  {
   "cell_type": "code",
   "execution_count": 49,
   "metadata": {},
   "outputs": [
    {
     "data": {
      "text/html": [
       "<div>\n",
       "<style scoped>\n",
       "    .dataframe tbody tr th:only-of-type {\n",
       "        vertical-align: middle;\n",
       "    }\n",
       "\n",
       "    .dataframe tbody tr th {\n",
       "        vertical-align: top;\n",
       "    }\n",
       "\n",
       "    .dataframe thead th {\n",
       "        text-align: right;\n",
       "    }\n",
       "</style>\n",
       "<table border=\"1\" class=\"dataframe\">\n",
       "  <thead>\n",
       "    <tr style=\"text-align: right;\">\n",
       "      <th></th>\n",
       "      <th>Average Viewer Rating</th>\n",
       "      <th>Average Metascore</th>\n",
       "      <th>Average # Viewer Reviews per movie</th>\n",
       "      <th>Average # Critic Reviews per movie</th>\n",
       "      <th>Average Year of Release</th>\n",
       "    </tr>\n",
       "  </thead>\n",
       "  <tbody>\n",
       "    <tr>\n",
       "      <td>0</td>\n",
       "      <td>2.812</td>\n",
       "      <td>22.72</td>\n",
       "      <td>152.69</td>\n",
       "      <td>46.77</td>\n",
       "      <td>2007.04</td>\n",
       "    </tr>\n",
       "  </tbody>\n",
       "</table>\n",
       "</div>"
      ],
      "text/plain": [
       "   Average Viewer Rating  Average Metascore  \\\n",
       "0                  2.812              22.72   \n",
       "\n",
       "   Average # Viewer Reviews per movie  Average # Critic Reviews per movie  \\\n",
       "0                              152.69                               46.77   \n",
       "\n",
       "   Average Year of Release  \n",
       "0                  2007.04  "
      ]
     },
     "execution_count": 49,
     "metadata": {},
     "output_type": "execute_result"
    }
   ],
   "source": [
    "viewer_worst_avescore = viewer_worst[\"Average Viewer Rating\"].mean()\n",
    "viewer_worst_metascore = viewer_worst[\"Average Critic Metascore\"].mean()\n",
    "viewer_worst_viewernum = viewer_worst[\"# Viewer Reviews\"].mean()\n",
    "viewer_worst_criticnum = viewer_worst[\"# Critic Reviews\"].mean()\n",
    "viewer_worst_aveyear = viewer_worst[\"year\"].mean()\n",
    "\n",
    "viewer_worst_summary = pd.DataFrame({\"Average Viewer Rating\": [viewer_worst_avescore],\n",
    "                                  \"Average Metascore\": [viewer_worst_metascore],\n",
    "                                  \"Average # Viewer Reviews per movie\": [viewer_worst_viewernum],\n",
    "                                  \"Average # Critic Reviews per movie\": [viewer_worst_criticnum],\n",
    "                                  \"Average Year of Release\": [viewer_worst_aveyear]})\n",
    "\n",
    "viewer_worst_summary"
   ]
  },
  {
   "cell_type": "markdown",
   "metadata": {},
   "source": [
    "# Critics' Bottom 100 Movies"
   ]
  },
  {
   "cell_type": "code",
   "execution_count": 50,
   "metadata": {},
   "outputs": [
    {
     "data": {
      "text/html": [
       "<div>\n",
       "<style scoped>\n",
       "    .dataframe tbody tr th:only-of-type {\n",
       "        vertical-align: middle;\n",
       "    }\n",
       "\n",
       "    .dataframe tbody tr th {\n",
       "        vertical-align: top;\n",
       "    }\n",
       "\n",
       "    .dataframe thead th {\n",
       "        text-align: right;\n",
       "    }\n",
       "</style>\n",
       "<table border=\"1\" class=\"dataframe\">\n",
       "  <thead>\n",
       "    <tr style=\"text-align: right;\">\n",
       "      <th></th>\n",
       "      <th>title</th>\n",
       "      <th>Average Viewer Rating</th>\n",
       "      <th>Average Critic Metascore</th>\n",
       "      <th># Viewer Reviews</th>\n",
       "      <th># Critic Reviews</th>\n",
       "      <th>year</th>\n",
       "      <th>Decade</th>\n",
       "    </tr>\n",
       "  </thead>\n",
       "  <tbody>\n",
       "    <tr>\n",
       "      <td>28688</td>\n",
       "      <td>Bio-Dome</td>\n",
       "      <td>4.4</td>\n",
       "      <td>1.0</td>\n",
       "      <td>141.0</td>\n",
       "      <td>29.0</td>\n",
       "      <td>1996</td>\n",
       "      <td>1990s</td>\n",
       "    </tr>\n",
       "    <tr>\n",
       "      <td>66310</td>\n",
       "      <td>United Passions</td>\n",
       "      <td>2.1</td>\n",
       "      <td>1.0</td>\n",
       "      <td>32.0</td>\n",
       "      <td>9.0</td>\n",
       "      <td>2014</td>\n",
       "      <td>2010s</td>\n",
       "    </tr>\n",
       "    <tr>\n",
       "      <td>59421</td>\n",
       "      <td>InAPPropriate Comedy</td>\n",
       "      <td>2.8</td>\n",
       "      <td>1.0</td>\n",
       "      <td>49.0</td>\n",
       "      <td>22.0</td>\n",
       "      <td>2013</td>\n",
       "      <td>2010s</td>\n",
       "    </tr>\n",
       "    <tr>\n",
       "      <td>61419</td>\n",
       "      <td>10 Rules for Sleeping Around</td>\n",
       "      <td>3.6</td>\n",
       "      <td>1.0</td>\n",
       "      <td>8.0</td>\n",
       "      <td>14.0</td>\n",
       "      <td>2013</td>\n",
       "      <td>2010s</td>\n",
       "    </tr>\n",
       "    <tr>\n",
       "      <td>22467</td>\n",
       "      <td>The Garbage Pail Kids Movie</td>\n",
       "      <td>2.6</td>\n",
       "      <td>1.0</td>\n",
       "      <td>116.0</td>\n",
       "      <td>43.0</td>\n",
       "      <td>1987</td>\n",
       "      <td>1980s</td>\n",
       "    </tr>\n",
       "  </tbody>\n",
       "</table>\n",
       "</div>"
      ],
      "text/plain": [
       "                              title  Average Viewer Rating  \\\n",
       "28688                      Bio-Dome                    4.4   \n",
       "66310               United Passions                    2.1   \n",
       "59421          InAPPropriate Comedy                    2.8   \n",
       "61419  10 Rules for Sleeping Around                    3.6   \n",
       "22467   The Garbage Pail Kids Movie                    2.6   \n",
       "\n",
       "       Average Critic Metascore  # Viewer Reviews  # Critic Reviews  year  \\\n",
       "28688                       1.0             141.0              29.0  1996   \n",
       "66310                       1.0              32.0               9.0  2014   \n",
       "59421                       1.0              49.0              22.0  2013   \n",
       "61419                       1.0               8.0              14.0  2013   \n",
       "22467                       1.0             116.0              43.0  1987   \n",
       "\n",
       "      Decade  \n",
       "28688  1990s  \n",
       "66310  2010s  \n",
       "59421  2010s  \n",
       "61419  2010s  \n",
       "22467  1980s  "
      ]
     },
     "execution_count": 50,
     "metadata": {},
     "output_type": "execute_result"
    }
   ],
   "source": [
    "movies_data_critics_ascending = movies_data.sort_values(\"metascore\", ascending=True)\n",
    "critic_worst_unlabeled = movies_data_critics_ascending.head(100)\n",
    "critic_worst = critic_worst_unlabeled.rename(columns={\"avg_vote\":\"Average Viewer Rating\", \"metascore\":\"Average Critic Metascore\", \"reviews_from_users\":\"# Viewer Reviews\", \"reviews_from_critics\":\"# Critic Reviews\"})\n",
    "\n",
    "critic_worst.head()"
   ]
  },
  {
   "cell_type": "code",
   "execution_count": 51,
   "metadata": {},
   "outputs": [
    {
     "data": {
      "text/html": [
       "<div>\n",
       "<style scoped>\n",
       "    .dataframe tbody tr th:only-of-type {\n",
       "        vertical-align: middle;\n",
       "    }\n",
       "\n",
       "    .dataframe tbody tr th {\n",
       "        vertical-align: top;\n",
       "    }\n",
       "\n",
       "    .dataframe thead th {\n",
       "        text-align: right;\n",
       "    }\n",
       "</style>\n",
       "<table border=\"1\" class=\"dataframe\">\n",
       "  <thead>\n",
       "    <tr style=\"text-align: right;\">\n",
       "      <th></th>\n",
       "      <th>Average Viewer Rating</th>\n",
       "      <th>Average Metascore</th>\n",
       "      <th>Average # Viewer Reviews per movie</th>\n",
       "      <th>Average # Critic Reviews per movie</th>\n",
       "      <th>Average Year of Release</th>\n",
       "    </tr>\n",
       "  </thead>\n",
       "  <tbody>\n",
       "    <tr>\n",
       "      <td>0</td>\n",
       "      <td>4.086</td>\n",
       "      <td>8.99</td>\n",
       "      <td>131.52</td>\n",
       "      <td>46.9</td>\n",
       "      <td>2004.52</td>\n",
       "    </tr>\n",
       "  </tbody>\n",
       "</table>\n",
       "</div>"
      ],
      "text/plain": [
       "   Average Viewer Rating  Average Metascore  \\\n",
       "0                  4.086               8.99   \n",
       "\n",
       "   Average # Viewer Reviews per movie  Average # Critic Reviews per movie  \\\n",
       "0                              131.52                                46.9   \n",
       "\n",
       "   Average Year of Release  \n",
       "0                  2004.52  "
      ]
     },
     "execution_count": 51,
     "metadata": {},
     "output_type": "execute_result"
    }
   ],
   "source": [
    "critic_worst_avescore = critic_worst[\"Average Viewer Rating\"].mean()\n",
    "critic_worst_metascore = critic_worst[\"Average Critic Metascore\"].mean()\n",
    "critic_worst_viewernum = critic_worst[\"# Viewer Reviews\"].mean()\n",
    "critic_worst_criticnum = critic_worst[\"# Critic Reviews\"].mean()\n",
    "critic_worst_aveyear = critic_worst[\"year\"].mean()\n",
    "\n",
    "critic_worst_summary = pd.DataFrame({\"Average Viewer Rating\": [critic_worst_avescore],\n",
    "                                  \"Average Metascore\": [critic_worst_metascore],\n",
    "                                  \"Average # Viewer Reviews per movie\": [critic_worst_viewernum],\n",
    "                                  \"Average # Critic Reviews per movie\": [critic_worst_criticnum],\n",
    "                                  \"Average Year of Release\": [critic_worst_aveyear]})\n",
    "\n",
    "critic_worst_summary"
   ]
  },
  {
   "cell_type": "markdown",
   "metadata": {},
   "source": [
    "OBSERVATIONS:\n",
    "\n",
    "Viewers' favorite 100 movies had an average viewer rating of 8.525, and average critic metascore of 81.76\n",
    "Crictic's favorite movies had an average viewer rating of 7.989, and average critic metascore of 96.58\n",
    "An interesting point is the difference in \"average year of release\" for the viewers' favorite movies (1990), and critics' favorite movies (1973), indicating that critics favor older films more than IMDB users. \n",
    "\n",
    "Viewers' least favorite 100 movies had an average viewer rating of 2.812, and average critic metascore of 22.72\n",
    "Crictic's least favorite movies had an average viewer rating of 4.086, and average critic metascore of 8.99\n",
    "However, both IMDB users and critics had similar \"average year of release\" for bad movies -- the 2010s for both groups (2007 vs. 2004). \n",
    "    "
   ]
  },
  {
   "cell_type": "markdown",
   "metadata": {},
   "source": [
    "# Viewer Ratings - detailed breakdown"
   ]
  },
  {
   "cell_type": "code",
   "execution_count": 52,
   "metadata": {},
   "outputs": [
    {
     "data": {
      "text/html": [
       "<div>\n",
       "<style scoped>\n",
       "    .dataframe tbody tr th:only-of-type {\n",
       "        vertical-align: middle;\n",
       "    }\n",
       "\n",
       "    .dataframe tbody tr th {\n",
       "        vertical-align: top;\n",
       "    }\n",
       "\n",
       "    .dataframe thead th {\n",
       "        text-align: right;\n",
       "    }\n",
       "</style>\n",
       "<table border=\"1\" class=\"dataframe\">\n",
       "  <thead>\n",
       "    <tr style=\"text-align: right;\">\n",
       "      <th></th>\n",
       "      <th>imdb_title_id</th>\n",
       "      <th>weighted_average_vote</th>\n",
       "      <th>total_votes</th>\n",
       "      <th>mean_vote</th>\n",
       "      <th>median_vote</th>\n",
       "      <th>votes_10</th>\n",
       "      <th>votes_9</th>\n",
       "      <th>votes_8</th>\n",
       "      <th>votes_7</th>\n",
       "      <th>votes_6</th>\n",
       "      <th>...</th>\n",
       "      <th>females_30age_avg_vote</th>\n",
       "      <th>females_30age_votes</th>\n",
       "      <th>females_45age_avg_vote</th>\n",
       "      <th>females_45age_votes</th>\n",
       "      <th>top1000_voters_rating</th>\n",
       "      <th>top1000_voters_votes</th>\n",
       "      <th>us_voters_rating</th>\n",
       "      <th>us_voters_votes</th>\n",
       "      <th>non_us_voters_rating</th>\n",
       "      <th>non_us_voters_votes</th>\n",
       "    </tr>\n",
       "  </thead>\n",
       "  <tbody>\n",
       "    <tr>\n",
       "      <td>0</td>\n",
       "      <td>tt0000574</td>\n",
       "      <td>6.1</td>\n",
       "      <td>537</td>\n",
       "      <td>6.3</td>\n",
       "      <td>6.0</td>\n",
       "      <td>54</td>\n",
       "      <td>17</td>\n",
       "      <td>55</td>\n",
       "      <td>121</td>\n",
       "      <td>122</td>\n",
       "      <td>...</td>\n",
       "      <td>6.0</td>\n",
       "      <td>19.0</td>\n",
       "      <td>6.6</td>\n",
       "      <td>14.0</td>\n",
       "      <td>6.3</td>\n",
       "      <td>64.0</td>\n",
       "      <td>6.0</td>\n",
       "      <td>89.0</td>\n",
       "      <td>6.2</td>\n",
       "      <td>309.0</td>\n",
       "    </tr>\n",
       "    <tr>\n",
       "      <td>1</td>\n",
       "      <td>tt0001892</td>\n",
       "      <td>5.9</td>\n",
       "      <td>171</td>\n",
       "      <td>6.1</td>\n",
       "      <td>6.0</td>\n",
       "      <td>5</td>\n",
       "      <td>6</td>\n",
       "      <td>17</td>\n",
       "      <td>41</td>\n",
       "      <td>52</td>\n",
       "      <td>...</td>\n",
       "      <td>5.8</td>\n",
       "      <td>4.0</td>\n",
       "      <td>6.5</td>\n",
       "      <td>8.0</td>\n",
       "      <td>5.9</td>\n",
       "      <td>29.0</td>\n",
       "      <td>6.2</td>\n",
       "      <td>27.0</td>\n",
       "      <td>6.0</td>\n",
       "      <td>114.0</td>\n",
       "    </tr>\n",
       "    <tr>\n",
       "      <td>2</td>\n",
       "      <td>tt0002101</td>\n",
       "      <td>5.2</td>\n",
       "      <td>420</td>\n",
       "      <td>5.2</td>\n",
       "      <td>5.0</td>\n",
       "      <td>12</td>\n",
       "      <td>8</td>\n",
       "      <td>16</td>\n",
       "      <td>60</td>\n",
       "      <td>89</td>\n",
       "      <td>...</td>\n",
       "      <td>5.5</td>\n",
       "      <td>14.0</td>\n",
       "      <td>6.2</td>\n",
       "      <td>20.0</td>\n",
       "      <td>4.9</td>\n",
       "      <td>57.0</td>\n",
       "      <td>5.5</td>\n",
       "      <td>197.0</td>\n",
       "      <td>4.7</td>\n",
       "      <td>103.0</td>\n",
       "    </tr>\n",
       "    <tr>\n",
       "      <td>3</td>\n",
       "      <td>tt0002130</td>\n",
       "      <td>7.0</td>\n",
       "      <td>2019</td>\n",
       "      <td>6.9</td>\n",
       "      <td>7.0</td>\n",
       "      <td>194</td>\n",
       "      <td>208</td>\n",
       "      <td>386</td>\n",
       "      <td>571</td>\n",
       "      <td>308</td>\n",
       "      <td>...</td>\n",
       "      <td>7.3</td>\n",
       "      <td>74.0</td>\n",
       "      <td>7.4</td>\n",
       "      <td>75.0</td>\n",
       "      <td>7.0</td>\n",
       "      <td>126.0</td>\n",
       "      <td>7.1</td>\n",
       "      <td>452.0</td>\n",
       "      <td>7.0</td>\n",
       "      <td>1076.0</td>\n",
       "    </tr>\n",
       "    <tr>\n",
       "      <td>4</td>\n",
       "      <td>tt0002199</td>\n",
       "      <td>5.7</td>\n",
       "      <td>438</td>\n",
       "      <td>5.8</td>\n",
       "      <td>6.0</td>\n",
       "      <td>28</td>\n",
       "      <td>15</td>\n",
       "      <td>42</td>\n",
       "      <td>75</td>\n",
       "      <td>114</td>\n",
       "      <td>...</td>\n",
       "      <td>4.8</td>\n",
       "      <td>10.0</td>\n",
       "      <td>6.5</td>\n",
       "      <td>15.0</td>\n",
       "      <td>5.7</td>\n",
       "      <td>56.0</td>\n",
       "      <td>5.9</td>\n",
       "      <td>161.0</td>\n",
       "      <td>5.7</td>\n",
       "      <td>164.0</td>\n",
       "    </tr>\n",
       "  </tbody>\n",
       "</table>\n",
       "<p>5 rows × 49 columns</p>\n",
       "</div>"
      ],
      "text/plain": [
       "  imdb_title_id  weighted_average_vote  total_votes  mean_vote  median_vote  \\\n",
       "0     tt0000574                    6.1          537        6.3          6.0   \n",
       "1     tt0001892                    5.9          171        6.1          6.0   \n",
       "2     tt0002101                    5.2          420        5.2          5.0   \n",
       "3     tt0002130                    7.0         2019        6.9          7.0   \n",
       "4     tt0002199                    5.7          438        5.8          6.0   \n",
       "\n",
       "   votes_10  votes_9  votes_8  votes_7  votes_6  ...  females_30age_avg_vote  \\\n",
       "0        54       17       55      121      122  ...                     6.0   \n",
       "1         5        6       17       41       52  ...                     5.8   \n",
       "2        12        8       16       60       89  ...                     5.5   \n",
       "3       194      208      386      571      308  ...                     7.3   \n",
       "4        28       15       42       75      114  ...                     4.8   \n",
       "\n",
       "   females_30age_votes  females_45age_avg_vote  females_45age_votes  \\\n",
       "0                 19.0                     6.6                 14.0   \n",
       "1                  4.0                     6.5                  8.0   \n",
       "2                 14.0                     6.2                 20.0   \n",
       "3                 74.0                     7.4                 75.0   \n",
       "4                 10.0                     6.5                 15.0   \n",
       "\n",
       "   top1000_voters_rating  top1000_voters_votes  us_voters_rating  \\\n",
       "0                    6.3                  64.0               6.0   \n",
       "1                    5.9                  29.0               6.2   \n",
       "2                    4.9                  57.0               5.5   \n",
       "3                    7.0                 126.0               7.1   \n",
       "4                    5.7                  56.0               5.9   \n",
       "\n",
       "   us_voters_votes  non_us_voters_rating  non_us_voters_votes  \n",
       "0             89.0                   6.2                309.0  \n",
       "1             27.0                   6.0                114.0  \n",
       "2            197.0                   4.7                103.0  \n",
       "3            452.0                   7.0               1076.0  \n",
       "4            161.0                   5.7                164.0  \n",
       "\n",
       "[5 rows x 49 columns]"
      ]
     },
     "execution_count": 52,
     "metadata": {},
     "output_type": "execute_result"
    }
   ],
   "source": [
    "IMDB_ratings = \"IMDb_ratings.csv\"\n",
    "ratings_data_raw = pd.read_csv(IMDB_ratings)\n",
    "ratings_data_raw.head()"
   ]
  },
  {
   "cell_type": "code",
   "execution_count": 54,
   "metadata": {},
   "outputs": [
    {
     "data": {
      "text/plain": [
       "(81273, 49)"
      ]
     },
     "execution_count": 54,
     "metadata": {},
     "output_type": "execute_result"
    }
   ],
   "source": [
    "ratings_data_raw.shape"
   ]
  },
  {
   "cell_type": "code",
   "execution_count": 55,
   "metadata": {},
   "outputs": [
    {
     "data": {
      "text/plain": [
       "Index(['imdb_title_id', 'weighted_average_vote', 'total_votes', 'mean_vote',\n",
       "       'median_vote', 'votes_10', 'votes_9', 'votes_8', 'votes_7', 'votes_6',\n",
       "       'votes_5', 'votes_4', 'votes_3', 'votes_2', 'votes_1',\n",
       "       'allgenders_0age_avg_vote', 'allgenders_0age_votes',\n",
       "       'allgenders_18age_avg_vote', 'allgenders_18age_votes',\n",
       "       'allgenders_30age_avg_vote', 'allgenders_30age_votes',\n",
       "       'allgenders_45age_avg_vote', 'allgenders_45age_votes',\n",
       "       'males_allages_avg_vote', 'males_allages_votes', 'males_0age_avg_vote',\n",
       "       'males_0age_votes', 'males_18age_avg_vote', 'males_18age_votes',\n",
       "       'males_30age_avg_vote', 'males_30age_votes', 'males_45age_avg_vote',\n",
       "       'males_45age_votes', 'females_allages_avg_vote',\n",
       "       'females_allages_votes', 'females_0age_avg_vote', 'females_0age_votes',\n",
       "       'females_18age_avg_vote', 'females_18age_votes',\n",
       "       'females_30age_avg_vote', 'females_30age_votes',\n",
       "       'females_45age_avg_vote', 'females_45age_votes',\n",
       "       'top1000_voters_rating', 'top1000_voters_votes', 'us_voters_rating',\n",
       "       'us_voters_votes', 'non_us_voters_rating', 'non_us_voters_votes'],\n",
       "      dtype='object')"
      ]
     },
     "execution_count": 55,
     "metadata": {},
     "output_type": "execute_result"
    }
   ],
   "source": [
    "ratings_data_raw.columns"
   ]
  },
  {
   "cell_type": "code",
   "execution_count": 88,
   "metadata": {},
   "outputs": [
    {
     "data": {
      "text/html": [
       "<div>\n",
       "<style scoped>\n",
       "    .dataframe tbody tr th:only-of-type {\n",
       "        vertical-align: middle;\n",
       "    }\n",
       "\n",
       "    .dataframe tbody tr th {\n",
       "        vertical-align: top;\n",
       "    }\n",
       "\n",
       "    .dataframe thead th {\n",
       "        text-align: right;\n",
       "    }\n",
       "</style>\n",
       "<table border=\"1\" class=\"dataframe\">\n",
       "  <thead>\n",
       "    <tr style=\"text-align: right;\">\n",
       "      <th></th>\n",
       "      <th>Ave Overall</th>\n",
       "      <th>Ave Females</th>\n",
       "      <th>Ave Males</th>\n",
       "    </tr>\n",
       "  </thead>\n",
       "  <tbody>\n",
       "    <tr>\n",
       "      <td>allgenders_0age_avg_vote</td>\n",
       "      <td>6.594036</td>\n",
       "      <td>NaN</td>\n",
       "      <td>NaN</td>\n",
       "    </tr>\n",
       "    <tr>\n",
       "      <td>allgenders_18age_avg_vote</td>\n",
       "      <td>6.039700</td>\n",
       "      <td>NaN</td>\n",
       "      <td>NaN</td>\n",
       "    </tr>\n",
       "    <tr>\n",
       "      <td>allgenders_30age_avg_vote</td>\n",
       "      <td>5.883599</td>\n",
       "      <td>NaN</td>\n",
       "      <td>NaN</td>\n",
       "    </tr>\n",
       "    <tr>\n",
       "      <td>allgenders_45age_avg_vote</td>\n",
       "      <td>5.692160</td>\n",
       "      <td>NaN</td>\n",
       "      <td>NaN</td>\n",
       "    </tr>\n",
       "    <tr>\n",
       "      <td>females_0age_avg_vote</td>\n",
       "      <td>NaN</td>\n",
       "      <td>6.852136</td>\n",
       "      <td>NaN</td>\n",
       "    </tr>\n",
       "    <tr>\n",
       "      <td>females_18age_avg_vote</td>\n",
       "      <td>NaN</td>\n",
       "      <td>6.264041</td>\n",
       "      <td>NaN</td>\n",
       "    </tr>\n",
       "    <tr>\n",
       "      <td>females_30age_avg_vote</td>\n",
       "      <td>NaN</td>\n",
       "      <td>6.103064</td>\n",
       "      <td>NaN</td>\n",
       "    </tr>\n",
       "    <tr>\n",
       "      <td>females_45age_avg_vote</td>\n",
       "      <td>NaN</td>\n",
       "      <td>6.064022</td>\n",
       "      <td>NaN</td>\n",
       "    </tr>\n",
       "    <tr>\n",
       "      <td>males_0age_avg_vote</td>\n",
       "      <td>NaN</td>\n",
       "      <td>NaN</td>\n",
       "      <td>6.575992</td>\n",
       "    </tr>\n",
       "    <tr>\n",
       "      <td>males_18age_avg_vote</td>\n",
       "      <td>NaN</td>\n",
       "      <td>NaN</td>\n",
       "      <td>5.995359</td>\n",
       "    </tr>\n",
       "    <tr>\n",
       "      <td>males_30age_avg_vote</td>\n",
       "      <td>NaN</td>\n",
       "      <td>NaN</td>\n",
       "      <td>5.839554</td>\n",
       "    </tr>\n",
       "    <tr>\n",
       "      <td>males_45age_avg_vote</td>\n",
       "      <td>NaN</td>\n",
       "      <td>NaN</td>\n",
       "      <td>5.638010</td>\n",
       "    </tr>\n",
       "  </tbody>\n",
       "</table>\n",
       "</div>"
      ],
      "text/plain": [
       "                           Ave Overall  Ave Females  Ave Males\n",
       "allgenders_0age_avg_vote      6.594036          NaN        NaN\n",
       "allgenders_18age_avg_vote     6.039700          NaN        NaN\n",
       "allgenders_30age_avg_vote     5.883599          NaN        NaN\n",
       "allgenders_45age_avg_vote     5.692160          NaN        NaN\n",
       "females_0age_avg_vote              NaN     6.852136        NaN\n",
       "females_18age_avg_vote             NaN     6.264041        NaN\n",
       "females_30age_avg_vote             NaN     6.103064        NaN\n",
       "females_45age_avg_vote             NaN     6.064022        NaN\n",
       "males_0age_avg_vote                NaN          NaN   6.575992\n",
       "males_18age_avg_vote               NaN          NaN   5.995359\n",
       "males_30age_avg_vote               NaN          NaN   5.839554\n",
       "males_45age_avg_vote               NaN          NaN   5.638010"
      ]
     },
     "execution_count": 88,
     "metadata": {},
     "output_type": "execute_result"
    }
   ],
   "source": [
    "allgenders_ratings = ratings_data_raw[['allgenders_0age_avg_vote', 'allgenders_18age_avg_vote', 'allgenders_30age_avg_vote', 'allgenders_45age_avg_vote']]\n",
    "allgenders_ratings_ave = allgenders_ratings.mean()\n",
    "\n",
    "\n",
    "females_ratings = ratings_data_raw[['females_0age_avg_vote', 'females_18age_avg_vote', 'females_30age_avg_vote', 'females_45age_avg_vote']]\n",
    "females_ratings_ave = females_ratings.mean()\n",
    "\n",
    "males_ratings = ratings_data_raw[['males_0age_avg_vote', 'males_18age_avg_vote', 'males_30age_avg_vote', 'males_45age_avg_vote']]\n",
    "males_ratings_ave = males_ratings.mean()\n",
    "\n",
    "ratings_by_gender = pd.DataFrame({\"Ave Overall\": allgenders_ratings_ave, \"Ave Females\": females_ratings_ave, \"Ave Males\": males_ratings_ave})\n",
    "ratings_by_gender "
   ]
  },
  {
   "cell_type": "code",
   "execution_count": 95,
   "metadata": {},
   "outputs": [],
   "source": [
    "US_ratings = ratings_data_raw['us_voters_rating']\n",
    "ave_US_ratings = US_ratings.mean()\n",
    "\n",
    "non_US_ratings = ratings_data_raw['non_us_voters_rating']\n",
    "ave_non_US_ratings = non_US_ratings.mean()"
   ]
  },
  {
   "cell_type": "code",
   "execution_count": null,
   "metadata": {},
   "outputs": [],
   "source": []
  }
 ],
 "metadata": {
  "kernelspec": {
   "display_name": "Python 3",
   "language": "python",
   "name": "python3"
  },
  "language_info": {
   "codemirror_mode": {
    "name": "ipython",
    "version": 3
   },
   "file_extension": ".py",
   "mimetype": "text/x-python",
   "name": "python",
   "nbconvert_exporter": "python",
   "pygments_lexer": "ipython3",
   "version": "3.7.4"
  }
 },
 "nbformat": 4,
 "nbformat_minor": 2
}

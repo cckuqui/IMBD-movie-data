{
 "nbformat": 4,
 "nbformat_minor": 2,
 "metadata": {
  "language_info": {
   "name": "python",
   "codemirror_mode": {
    "name": "ipython",
    "version": 3
   },
   "version": "3.7.4-final"
  },
  "orig_nbformat": 2,
  "file_extension": ".py",
  "mimetype": "text/x-python",
  "name": "python",
  "npconvert_exporter": "python",
  "pygments_lexer": "ipython3",
  "version": 3,
  "kernelspec": {
   "name": "python37464bitbaseconda1f272b08825b44268b0b382f97a12fd9",
   "display_name": "Python 3.7.4 64-bit ('base': conda)"
  }
 },
 "cells": [
  {
   "cell_type": "markdown",
   "metadata": {},
   "source": [
    "# Cuestionamiento 3: Existe una relacion entre el exito ($ y ratings) de una pelicula y el director y/o budget?"
   ]
  },
  {
   "cell_type": "code",
   "execution_count": 1,
   "metadata": {},
   "outputs": [],
   "source": [
    "# Import libraries\n",
    "import matplotlib.pyplot as plt\n",
    "import pandas as pd\n",
    "import numpy as np\n",
    "import scipy.stats as st"
   ]
  },
  {
   "cell_type": "code",
   "execution_count": 2,
   "metadata": {},
   "outputs": [],
   "source": [
    "# Import csv files\n",
    "movies = pd.read_csv('IMDb movies.csv')\n",
    "actors = pd.read_csv('IMDb names.csv')\n",
    "ratings = pd.read_csv('IMDb ratings.csv')\n",
    "title_principals = pd.read_csv('IMDb title_principals.csv')"
   ]
  },
  {
   "cell_type": "code",
   "execution_count": 90,
   "metadata": {},
   "outputs": [],
   "source": [
    "movies = pd.DataFrame(movies)\n",
    "actors = pd.DataFrame(actors)\n",
    "ratings = pd.DataFrame(ratings)\n",
    "title_principals = pd.DataFrame(title_principals)"
   ]
  },
  {
   "cell_type": "code",
   "execution_count": 9,
   "metadata": {},
   "outputs": [
    {
     "data": {
      "text/plain": "imdb_title_id            81273\ntitle                    81273\noriginal_title           81273\nyear                     81273\ndate_published           81273\ngenre                    81273\nduration                 81273\ncountry                  81234\nlanguage                 80518\ndirector                 81200\nwriter                   79780\nproduction_company       76948\nactors                   81207\ndescription              78843\navg_vote                 81273\nvotes                    81273\nbudget                   22804\nusa_gross_income         15094\nworlwide_gross_income    29892\nmetascore                12722\nreviews_from_users       74196\nreviews_from_critics     70286\ndtype: int64"
     },
     "execution_count": 9,
     "metadata": {},
     "output_type": "execute_result"
    }
   ],
   "source": [
    "movies.count()"
   ]
  },
  {
   "cell_type": "code",
   "execution_count": 6,
   "metadata": {},
   "outputs": [
    {
     "data": {
      "text/plain": "imdb_title_id                81273\nweighted_average_vote        81273\ntotal_votes                  81273\nmean_vote                    81273\nmedian_vote                  81273\nvotes_10                     81273\nvotes_9                      81273\nvotes_8                      81273\nvotes_7                      81273\nvotes_6                      81273\nvotes_5                      81273\nvotes_4                      81273\nvotes_3                      81273\nvotes_2                      81273\nvotes_1                      81273\nallgenders_0age_avg_vote     26543\nallgenders_0age_votes        26543\nallgenders_18age_avg_vote    80858\nallgenders_18age_votes       80858\nallgenders_30age_avg_vote    81264\nallgenders_30age_votes       81264\nallgenders_45age_avg_vote    81160\nallgenders_45age_votes       81160\nmales_allages_avg_vote       81272\nmales_allages_votes          81272\nmales_0age_avg_vote          20339\nmales_0age_votes             20339\nmales_18age_avg_vote         80217\nmales_18age_votes            80217\nmales_30age_avg_vote         81264\nmales_30age_votes            81264\nmales_45age_avg_vote         81120\nmales_45age_votes            81120\nfemales_allages_avg_vote     81203\nfemales_allages_votes        81203\nfemales_0age_avg_vote        15333\nfemales_0age_votes           15333\nfemales_18age_avg_vote       76239\nfemales_18age_votes          76239\nfemales_30age_avg_vote       80409\nfemales_30age_votes          80409\nfemales_45age_avg_vote       78701\nfemales_45age_votes          78701\ntop1000_voters_rating        80667\ntop1000_voters_votes         80667\nus_voters_rating             81034\nus_voters_votes              81034\nnon_us_voters_rating         81269\nnon_us_voters_votes          81269\ndtype: int64"
     },
     "execution_count": 6,
     "metadata": {},
     "output_type": "execute_result"
    }
   ],
   "source": [
    "ratings.count()"
   ]
  },
  {
   "cell_type": "code",
   "execution_count": 91,
   "metadata": {},
   "outputs": [
    {
     "data": {
      "text/html": "<div>\n<style scoped>\n    .dataframe tbody tr th:only-of-type {\n        vertical-align: middle;\n    }\n\n    .dataframe tbody tr th {\n        vertical-align: top;\n    }\n\n    .dataframe thead th {\n        text-align: right;\n    }\n</style>\n<table border=\"1\" class=\"dataframe\">\n  <thead>\n    <tr style=\"text-align: right;\">\n      <th></th>\n      <th>imdb_title_id</th>\n      <th>title</th>\n      <th>original_title</th>\n      <th>year</th>\n      <th>date_published</th>\n      <th>genre</th>\n      <th>duration</th>\n      <th>country</th>\n      <th>language</th>\n      <th>director</th>\n      <th>...</th>\n      <th>budget</th>\n      <th>usa_gross_income</th>\n      <th>worlwide_gross_income</th>\n      <th>metascore</th>\n      <th>reviews_from_users</th>\n      <th>reviews_from_critics</th>\n      <th>us_voters_rating</th>\n      <th>us_voters_votes</th>\n      <th>non_us_voters_rating</th>\n      <th>non_us_voters_votes</th>\n    </tr>\n  </thead>\n  <tbody>\n    <tr>\n      <td>0</td>\n      <td>tt0000574</td>\n      <td>The Story of the Kelly Gang</td>\n      <td>The Story of the Kelly Gang</td>\n      <td>1906</td>\n      <td>1906-12-26</td>\n      <td>Biography, Crime, Drama</td>\n      <td>70</td>\n      <td>Australia</td>\n      <td>NaN</td>\n      <td>Charles Tait</td>\n      <td>...</td>\n      <td>$ 2250</td>\n      <td>NaN</td>\n      <td>NaN</td>\n      <td>NaN</td>\n      <td>7.0</td>\n      <td>7.0</td>\n      <td>6.0</td>\n      <td>89.0</td>\n      <td>6.2</td>\n      <td>309.0</td>\n    </tr>\n    <tr>\n      <td>1</td>\n      <td>tt0001892</td>\n      <td>Den sorte drøm</td>\n      <td>Den sorte drøm</td>\n      <td>1911</td>\n      <td>1911-08-19</td>\n      <td>Drama</td>\n      <td>53</td>\n      <td>Germany, Denmark</td>\n      <td>NaN</td>\n      <td>Urban Gad</td>\n      <td>...</td>\n      <td>NaN</td>\n      <td>NaN</td>\n      <td>NaN</td>\n      <td>NaN</td>\n      <td>4.0</td>\n      <td>2.0</td>\n      <td>6.2</td>\n      <td>27.0</td>\n      <td>6.0</td>\n      <td>114.0</td>\n    </tr>\n    <tr>\n      <td>2</td>\n      <td>tt0002101</td>\n      <td>Cleopatra</td>\n      <td>Cleopatra</td>\n      <td>1912</td>\n      <td>1912-11-13</td>\n      <td>Drama, History</td>\n      <td>100</td>\n      <td>USA</td>\n      <td>English</td>\n      <td>Charles L. Gaskill</td>\n      <td>...</td>\n      <td>$ 45000</td>\n      <td>NaN</td>\n      <td>NaN</td>\n      <td>NaN</td>\n      <td>24.0</td>\n      <td>3.0</td>\n      <td>5.5</td>\n      <td>197.0</td>\n      <td>4.7</td>\n      <td>103.0</td>\n    </tr>\n    <tr>\n      <td>3</td>\n      <td>tt0002130</td>\n      <td>L'Inferno</td>\n      <td>L'Inferno</td>\n      <td>1911</td>\n      <td>1911-03-06</td>\n      <td>Adventure, Drama, Fantasy</td>\n      <td>68</td>\n      <td>Italy</td>\n      <td>Italian</td>\n      <td>Francesco Bertolini, Adolfo Padovan</td>\n      <td>...</td>\n      <td>NaN</td>\n      <td>NaN</td>\n      <td>NaN</td>\n      <td>NaN</td>\n      <td>28.0</td>\n      <td>14.0</td>\n      <td>7.1</td>\n      <td>452.0</td>\n      <td>7.0</td>\n      <td>1076.0</td>\n    </tr>\n    <tr>\n      <td>4</td>\n      <td>tt0002199</td>\n      <td>From the Manger to the Cross; or, Jesus of Naz...</td>\n      <td>From the Manger to the Cross; or, Jesus of Naz...</td>\n      <td>1912</td>\n      <td>1913</td>\n      <td>Biography, Drama</td>\n      <td>60</td>\n      <td>USA</td>\n      <td>English</td>\n      <td>Sidney Olcott</td>\n      <td>...</td>\n      <td>NaN</td>\n      <td>NaN</td>\n      <td>NaN</td>\n      <td>NaN</td>\n      <td>12.0</td>\n      <td>5.0</td>\n      <td>5.9</td>\n      <td>161.0</td>\n      <td>5.7</td>\n      <td>164.0</td>\n    </tr>\n    <tr>\n      <td>...</td>\n      <td>...</td>\n      <td>...</td>\n      <td>...</td>\n      <td>...</td>\n      <td>...</td>\n      <td>...</td>\n      <td>...</td>\n      <td>...</td>\n      <td>...</td>\n      <td>...</td>\n      <td>...</td>\n      <td>...</td>\n      <td>...</td>\n      <td>...</td>\n      <td>...</td>\n      <td>...</td>\n      <td>...</td>\n      <td>...</td>\n      <td>...</td>\n      <td>...</td>\n      <td>...</td>\n    </tr>\n    <tr>\n      <td>81268</td>\n      <td>tt9903716</td>\n      <td>Jessie</td>\n      <td>Jessie</td>\n      <td>2019</td>\n      <td>2019-03-15</td>\n      <td>Horror, Thriller</td>\n      <td>106</td>\n      <td>India</td>\n      <td>Telugu</td>\n      <td>Aswani Kumar V.</td>\n      <td>...</td>\n      <td>NaN</td>\n      <td>NaN</td>\n      <td>NaN</td>\n      <td>NaN</td>\n      <td>21.0</td>\n      <td>NaN</td>\n      <td>5.0</td>\n      <td>14.0</td>\n      <td>7.1</td>\n      <td>45.0</td>\n    </tr>\n    <tr>\n      <td>81269</td>\n      <td>tt9905412</td>\n      <td>Ottam</td>\n      <td>Ottam</td>\n      <td>2019</td>\n      <td>2019-03-08</td>\n      <td>Drama</td>\n      <td>120</td>\n      <td>India</td>\n      <td>Malayalam</td>\n      <td>Zam</td>\n      <td>...</td>\n      <td>INR 4000000</td>\n      <td>NaN</td>\n      <td>$ 4791</td>\n      <td>NaN</td>\n      <td>NaN</td>\n      <td>NaN</td>\n      <td>NaN</td>\n      <td>NaN</td>\n      <td>1.0</td>\n      <td>3.0</td>\n    </tr>\n    <tr>\n      <td>81270</td>\n      <td>tt9905462</td>\n      <td>Pengalila</td>\n      <td>Pengalila</td>\n      <td>2019</td>\n      <td>2019-03-08</td>\n      <td>Drama</td>\n      <td>111</td>\n      <td>India</td>\n      <td>Malayalam</td>\n      <td>T.V. Chandran</td>\n      <td>...</td>\n      <td>INR 10000000</td>\n      <td>NaN</td>\n      <td>NaN</td>\n      <td>NaN</td>\n      <td>NaN</td>\n      <td>NaN</td>\n      <td>NaN</td>\n      <td>NaN</td>\n      <td>4.0</td>\n      <td>3.0</td>\n    </tr>\n    <tr>\n      <td>81271</td>\n      <td>tt9911774</td>\n      <td>Padmavyuhathile Abhimanyu</td>\n      <td>Padmavyuhathile Abhimanyu</td>\n      <td>2019</td>\n      <td>2019-03-08</td>\n      <td>Drama</td>\n      <td>130</td>\n      <td>India</td>\n      <td>Malayalam</td>\n      <td>Vineesh Aaradya</td>\n      <td>...</td>\n      <td>NaN</td>\n      <td>NaN</td>\n      <td>NaN</td>\n      <td>NaN</td>\n      <td>NaN</td>\n      <td>NaN</td>\n      <td>NaN</td>\n      <td>NaN</td>\n      <td>1.0</td>\n      <td>1.0</td>\n    </tr>\n    <tr>\n      <td>81272</td>\n      <td>tt9914286</td>\n      <td>Sokagin Çocuklari</td>\n      <td>Sokagin Çocuklari</td>\n      <td>2019</td>\n      <td>2019-03-15</td>\n      <td>Drama, Family</td>\n      <td>98</td>\n      <td>Turkey</td>\n      <td>Turkish</td>\n      <td>Ahmet Faik Akinci</td>\n      <td>...</td>\n      <td>NaN</td>\n      <td>NaN</td>\n      <td>$ 2833</td>\n      <td>NaN</td>\n      <td>NaN</td>\n      <td>NaN</td>\n      <td>1.7</td>\n      <td>5.0</td>\n      <td>6.2</td>\n      <td>5.0</td>\n    </tr>\n  </tbody>\n</table>\n<p>81273 rows × 26 columns</p>\n</div>",
      "text/plain": "      imdb_title_id                                              title  \\\n0         tt0000574                        The Story of the Kelly Gang   \n1         tt0001892                                     Den sorte drøm   \n2         tt0002101                                          Cleopatra   \n3         tt0002130                                          L'Inferno   \n4         tt0002199  From the Manger to the Cross; or, Jesus of Naz...   \n...             ...                                                ...   \n81268     tt9903716                                             Jessie   \n81269     tt9905412                                              Ottam   \n81270     tt9905462                                          Pengalila   \n81271     tt9911774                          Padmavyuhathile Abhimanyu   \n81272     tt9914286                                  Sokagin Çocuklari   \n\n                                          original_title  year date_published  \\\n0                            The Story of the Kelly Gang  1906     1906-12-26   \n1                                         Den sorte drøm  1911     1911-08-19   \n2                                              Cleopatra  1912     1912-11-13   \n3                                              L'Inferno  1911     1911-03-06   \n4      From the Manger to the Cross; or, Jesus of Naz...  1912           1913   \n...                                                  ...   ...            ...   \n81268                                             Jessie  2019     2019-03-15   \n81269                                              Ottam  2019     2019-03-08   \n81270                                          Pengalila  2019     2019-03-08   \n81271                          Padmavyuhathile Abhimanyu  2019     2019-03-08   \n81272                                  Sokagin Çocuklari  2019     2019-03-15   \n\n                           genre  duration           country   language  \\\n0        Biography, Crime, Drama        70         Australia        NaN   \n1                          Drama        53  Germany, Denmark        NaN   \n2                 Drama, History       100               USA    English   \n3      Adventure, Drama, Fantasy        68             Italy    Italian   \n4               Biography, Drama        60               USA    English   \n...                          ...       ...               ...        ...   \n81268           Horror, Thriller       106             India     Telugu   \n81269                      Drama       120             India  Malayalam   \n81270                      Drama       111             India  Malayalam   \n81271                      Drama       130             India  Malayalam   \n81272              Drama, Family        98            Turkey    Turkish   \n\n                                  director  ...        budget  \\\n0                             Charles Tait  ...        $ 2250   \n1                                Urban Gad  ...           NaN   \n2                       Charles L. Gaskill  ...       $ 45000   \n3      Francesco Bertolini, Adolfo Padovan  ...           NaN   \n4                            Sidney Olcott  ...           NaN   \n...                                    ...  ...           ...   \n81268                      Aswani Kumar V.  ...           NaN   \n81269                                  Zam  ...   INR 4000000   \n81270                        T.V. Chandran  ...  INR 10000000   \n81271                      Vineesh Aaradya  ...           NaN   \n81272                    Ahmet Faik Akinci  ...           NaN   \n\n      usa_gross_income worlwide_gross_income metascore  reviews_from_users  \\\n0                  NaN                   NaN       NaN                 7.0   \n1                  NaN                   NaN       NaN                 4.0   \n2                  NaN                   NaN       NaN                24.0   \n3                  NaN                   NaN       NaN                28.0   \n4                  NaN                   NaN       NaN                12.0   \n...                ...                   ...       ...                 ...   \n81268              NaN                   NaN       NaN                21.0   \n81269              NaN                $ 4791       NaN                 NaN   \n81270              NaN                   NaN       NaN                 NaN   \n81271              NaN                   NaN       NaN                 NaN   \n81272              NaN                $ 2833       NaN                 NaN   \n\n       reviews_from_critics us_voters_rating us_voters_votes  \\\n0                       7.0              6.0            89.0   \n1                       2.0              6.2            27.0   \n2                       3.0              5.5           197.0   \n3                      14.0              7.1           452.0   \n4                       5.0              5.9           161.0   \n...                     ...              ...             ...   \n81268                   NaN              5.0            14.0   \n81269                   NaN              NaN             NaN   \n81270                   NaN              NaN             NaN   \n81271                   NaN              NaN             NaN   \n81272                   NaN              1.7             5.0   \n\n      non_us_voters_rating  non_us_voters_votes  \n0                      6.2                309.0  \n1                      6.0                114.0  \n2                      4.7                103.0  \n3                      7.0               1076.0  \n4                      5.7                164.0  \n...                    ...                  ...  \n81268                  7.1                 45.0  \n81269                  1.0                  3.0  \n81270                  4.0                  3.0  \n81271                  1.0                  1.0  \n81272                  6.2                  5.0  \n\n[81273 rows x 26 columns]"
     },
     "execution_count": 91,
     "metadata": {},
     "output_type": "execute_result"
    }
   ],
   "source": [
    "movies_ratings = pd.DataFrame.merge(movies,ratings[['imdb_title_id','us_voters_rating',\n",
    "       'us_voters_votes', 'non_us_voters_rating', 'non_us_voters_votes']],how='left',on='imdb_title_id')\n",
    "movies_ratings"
   ]
  },
  {
   "cell_type": "code",
   "execution_count": null,
   "metadata": {},
   "outputs": [],
   "source": []
  },
  {
   "cell_type": "code",
   "execution_count": 130,
   "metadata": {},
   "outputs": [
    {
     "data": {
      "text/html": "<div>\n<style scoped>\n    .dataframe tbody tr th:only-of-type {\n        vertical-align: middle;\n    }\n\n    .dataframe tbody tr th {\n        vertical-align: top;\n    }\n\n    .dataframe thead th {\n        text-align: right;\n    }\n</style>\n<table border=\"1\" class=\"dataframe\">\n  <thead>\n    <tr style=\"text-align: right;\">\n      <th></th>\n      <th>imdb_title_id</th>\n      <th>title</th>\n      <th>original_title</th>\n      <th>year</th>\n      <th>date_published</th>\n      <th>genre</th>\n      <th>duration</th>\n      <th>country</th>\n      <th>language</th>\n      <th>director</th>\n      <th>...</th>\n      <th>budget</th>\n      <th>usa_gross_income</th>\n      <th>worlwide_gross_income</th>\n      <th>metascore</th>\n      <th>reviews_from_users</th>\n      <th>reviews_from_critics</th>\n      <th>us_voters_rating</th>\n      <th>us_voters_votes</th>\n      <th>non_us_voters_rating</th>\n      <th>non_us_voters_votes</th>\n    </tr>\n  </thead>\n  <tbody>\n    <tr>\n      <td>1005</td>\n      <td>tt0021749</td>\n      <td>City Lights</td>\n      <td>City Lights</td>\n      <td>1931</td>\n      <td>1931-08-21</td>\n      <td>Comedy, Drama, Romance</td>\n      <td>87</td>\n      <td>USA</td>\n      <td>English</td>\n      <td>Charles Chaplin</td>\n      <td>...</td>\n      <td>1500000</td>\n      <td>19181</td>\n      <td>32609</td>\n      <td>99.0</td>\n      <td>270.0</td>\n      <td>120.0</td>\n      <td>8.5</td>\n      <td>26265.0</td>\n      <td>8.5</td>\n      <td>69116.0</td>\n    </tr>\n    <tr>\n      <td>2336</td>\n      <td>tt0027977</td>\n      <td>Modern Times</td>\n      <td>Modern Times</td>\n      <td>1936</td>\n      <td>1936-10-16</td>\n      <td>Comedy, Drama, Family</td>\n      <td>87</td>\n      <td>USA</td>\n      <td>English</td>\n      <td>Charles Chaplin</td>\n      <td>...</td>\n      <td>1500000</td>\n      <td>163577</td>\n      <td>445226</td>\n      <td>96.0</td>\n      <td>262.0</td>\n      <td>146.0</td>\n      <td>8.5</td>\n      <td>28002.0</td>\n      <td>8.5</td>\n      <td>92614.0</td>\n    </tr>\n    <tr>\n      <td>2687</td>\n      <td>tt0029583</td>\n      <td>Snow White and the Seven Dwarfs</td>\n      <td>Snow White and the Seven Dwarfs</td>\n      <td>1937</td>\n      <td>1938-07-08</td>\n      <td>Animation, Family, Fantasy</td>\n      <td>83</td>\n      <td>USA</td>\n      <td>English</td>\n      <td>William Cottrell, David Hand</td>\n      <td>...</td>\n      <td>1499000</td>\n      <td>184925486</td>\n      <td>184925486</td>\n      <td>95.0</td>\n      <td>229.0</td>\n      <td>166.0</td>\n      <td>7.7</td>\n      <td>37903.0</td>\n      <td>7.6</td>\n      <td>70466.0</td>\n    </tr>\n    <tr>\n      <td>3100</td>\n      <td>tt0031381</td>\n      <td>Gone with the Wind</td>\n      <td>Gone with the Wind</td>\n      <td>1939</td>\n      <td>1942-09-04</td>\n      <td>Drama, History, Romance</td>\n      <td>238</td>\n      <td>USA</td>\n      <td>English</td>\n      <td>Victor Fleming, George Cukor</td>\n      <td>...</td>\n      <td>3977000</td>\n      <td>200852579</td>\n      <td>402352579</td>\n      <td>97.0</td>\n      <td>808.0</td>\n      <td>183.0</td>\n      <td>8.2</td>\n      <td>63770.0</td>\n      <td>8.1</td>\n      <td>108032.0</td>\n    </tr>\n    <tr>\n      <td>3180</td>\n      <td>tt0031679</td>\n      <td>Mr. Smith Goes to Washington</td>\n      <td>Mr. Smith Goes to Washington</td>\n      <td>1939</td>\n      <td>1940-05-03</td>\n      <td>Comedy, Drama</td>\n      <td>129</td>\n      <td>USA</td>\n      <td>English</td>\n      <td>Frank Capra</td>\n      <td>...</td>\n      <td>1900000</td>\n      <td>144738</td>\n      <td>144738</td>\n      <td>73.0</td>\n      <td>272.0</td>\n      <td>110.0</td>\n      <td>8.3</td>\n      <td>34275.0</td>\n      <td>8.0</td>\n      <td>32212.0</td>\n    </tr>\n    <tr>\n      <td>...</td>\n      <td>...</td>\n      <td>...</td>\n      <td>...</td>\n      <td>...</td>\n      <td>...</td>\n      <td>...</td>\n      <td>...</td>\n      <td>...</td>\n      <td>...</td>\n      <td>...</td>\n      <td>...</td>\n      <td>...</td>\n      <td>...</td>\n      <td>...</td>\n      <td>...</td>\n      <td>...</td>\n      <td>...</td>\n      <td>...</td>\n      <td>...</td>\n      <td>...</td>\n      <td>...</td>\n    </tr>\n    <tr>\n      <td>80665</td>\n      <td>tt8772262</td>\n      <td>Midsommar</td>\n      <td>Midsommar</td>\n      <td>2019</td>\n      <td>2019-07-03</td>\n      <td>Drama, Horror, Mystery</td>\n      <td>147</td>\n      <td>USA, Sweden, Hungary</td>\n      <td>English, Swedish</td>\n      <td>Ari Aster</td>\n      <td>...</td>\n      <td>10000000</td>\n      <td>27426361</td>\n      <td>41123770</td>\n      <td>72.0</td>\n      <td>1454.0</td>\n      <td>365.0</td>\n      <td>7.5</td>\n      <td>12466.0</td>\n      <td>7.1</td>\n      <td>29604.0</td>\n    </tr>\n    <tr>\n      <td>80858</td>\n      <td>tt9024106</td>\n      <td>Unplanned</td>\n      <td>Unplanned</td>\n      <td>2019</td>\n      <td>2019-10-04</td>\n      <td>Biography, Drama</td>\n      <td>109</td>\n      <td>USA</td>\n      <td>English</td>\n      <td>Chuck Konzelman, Cary Solomon</td>\n      <td>...</td>\n      <td>6000000</td>\n      <td>19005109</td>\n      <td>19320481</td>\n      <td>10.0</td>\n      <td>531.0</td>\n      <td>32.0</td>\n      <td>6.1</td>\n      <td>2376.0</td>\n      <td>4.8</td>\n      <td>2524.0</td>\n    </tr>\n    <tr>\n      <td>80908</td>\n      <td>tt9082020</td>\n      <td>Cold Blood Legacy</td>\n      <td>Cold Blood Legacy</td>\n      <td>2019</td>\n      <td>2019-05-15</td>\n      <td>Action, Thriller</td>\n      <td>91</td>\n      <td>France, Ukraine, Belgium</td>\n      <td>French, English</td>\n      <td>Frédéric Petitjean</td>\n      <td>...</td>\n      <td>2700000</td>\n      <td>5083</td>\n      <td>1009888</td>\n      <td>25.0</td>\n      <td>72.0</td>\n      <td>26.0</td>\n      <td>4.5</td>\n      <td>214.0</td>\n      <td>4.5</td>\n      <td>1056.0</td>\n    </tr>\n    <tr>\n      <td>80946</td>\n      <td>tt9134216</td>\n      <td>Playing with Fire</td>\n      <td>Playing with Fire</td>\n      <td>2019</td>\n      <td>2019-11-08</td>\n      <td>Comedy, Family</td>\n      <td>96</td>\n      <td>USA</td>\n      <td>English</td>\n      <td>Andy Fickman</td>\n      <td>...</td>\n      <td>29900000</td>\n      <td>18847824</td>\n      <td>21788746</td>\n      <td>24.0</td>\n      <td>49.0</td>\n      <td>16.0</td>\n      <td>4.7</td>\n      <td>336.0</td>\n      <td>4.3</td>\n      <td>190.0</td>\n    </tr>\n    <tr>\n      <td>81059</td>\n      <td>tt9354944</td>\n      <td>Jexi</td>\n      <td>Jexi</td>\n      <td>2019</td>\n      <td>2019-10-11</td>\n      <td>Comedy</td>\n      <td>84</td>\n      <td>USA</td>\n      <td>English</td>\n      <td>Jon Lucas, Scott Moore</td>\n      <td>...</td>\n      <td>5000000</td>\n      <td>6546159</td>\n      <td>7257918</td>\n      <td>39.0</td>\n      <td>46.0</td>\n      <td>24.0</td>\n      <td>5.7</td>\n      <td>514.0</td>\n      <td>5.6</td>\n      <td>186.0</td>\n    </tr>\n  </tbody>\n</table>\n<p>5909 rows × 26 columns</p>\n</div>",
      "text/plain": "      imdb_title_id                            title  \\\n1005      tt0021749                      City Lights   \n2336      tt0027977                     Modern Times   \n2687      tt0029583  Snow White and the Seven Dwarfs   \n3100      tt0031381               Gone with the Wind   \n3180      tt0031679     Mr. Smith Goes to Washington   \n...             ...                              ...   \n80665     tt8772262                        Midsommar   \n80858     tt9024106                        Unplanned   \n80908     tt9082020                Cold Blood Legacy   \n80946     tt9134216                Playing with Fire   \n81059     tt9354944                             Jexi   \n\n                        original_title  year date_published  \\\n1005                       City Lights  1931     1931-08-21   \n2336                      Modern Times  1936     1936-10-16   \n2687   Snow White and the Seven Dwarfs  1937     1938-07-08   \n3100                Gone with the Wind  1939     1942-09-04   \n3180      Mr. Smith Goes to Washington  1939     1940-05-03   \n...                                ...   ...            ...   \n80665                        Midsommar  2019     2019-07-03   \n80858                        Unplanned  2019     2019-10-04   \n80908                Cold Blood Legacy  2019     2019-05-15   \n80946                Playing with Fire  2019     2019-11-08   \n81059                             Jexi  2019     2019-10-11   \n\n                            genre  duration                   country  \\\n1005       Comedy, Drama, Romance        87                       USA   \n2336        Comedy, Drama, Family        87                       USA   \n2687   Animation, Family, Fantasy        83                       USA   \n3100      Drama, History, Romance       238                       USA   \n3180                Comedy, Drama       129                       USA   \n...                           ...       ...                       ...   \n80665      Drama, Horror, Mystery       147      USA, Sweden, Hungary   \n80858            Biography, Drama       109                       USA   \n80908            Action, Thriller        91  France, Ukraine, Belgium   \n80946              Comedy, Family        96                       USA   \n81059                      Comedy        84                       USA   \n\n               language                       director  ...     budget  \\\n1005            English                Charles Chaplin  ...    1500000   \n2336            English                Charles Chaplin  ...    1500000   \n2687            English   William Cottrell, David Hand  ...    1499000   \n3100            English   Victor Fleming, George Cukor  ...    3977000   \n3180            English                    Frank Capra  ...    1900000   \n...                 ...                            ...  ...        ...   \n80665  English, Swedish                      Ari Aster  ...   10000000   \n80858           English  Chuck Konzelman, Cary Solomon  ...    6000000   \n80908   French, English             Frédéric Petitjean  ...    2700000   \n80946           English                   Andy Fickman  ...   29900000   \n81059           English         Jon Lucas, Scott Moore  ...    5000000   \n\n      usa_gross_income worlwide_gross_income metascore  reviews_from_users  \\\n1005             19181                 32609      99.0               270.0   \n2336            163577                445226      96.0               262.0   \n2687         184925486             184925486      95.0               229.0   \n3100         200852579             402352579      97.0               808.0   \n3180            144738                144738      73.0               272.0   \n...                ...                   ...       ...                 ...   \n80665         27426361              41123770      72.0              1454.0   \n80858         19005109              19320481      10.0               531.0   \n80908             5083               1009888      25.0                72.0   \n80946         18847824              21788746      24.0                49.0   \n81059          6546159               7257918      39.0                46.0   \n\n       reviews_from_critics us_voters_rating us_voters_votes  \\\n1005                  120.0              8.5         26265.0   \n2336                  146.0              8.5         28002.0   \n2687                  166.0              7.7         37903.0   \n3100                  183.0              8.2         63770.0   \n3180                  110.0              8.3         34275.0   \n...                     ...              ...             ...   \n80665                 365.0              7.5         12466.0   \n80858                  32.0              6.1          2376.0   \n80908                  26.0              4.5           214.0   \n80946                  16.0              4.7           336.0   \n81059                  24.0              5.7           514.0   \n\n      non_us_voters_rating  non_us_voters_votes  \n1005                   8.5              69116.0  \n2336                   8.5              92614.0  \n2687                   7.6              70466.0  \n3100                   8.1             108032.0  \n3180                   8.0              32212.0  \n...                    ...                  ...  \n80665                  7.1              29604.0  \n80858                  4.8               2524.0  \n80908                  4.5               1056.0  \n80946                  4.3                190.0  \n81059                  5.6                186.0  \n\n[5909 rows x 26 columns]"
     },
     "execution_count": 130,
     "metadata": {},
     "output_type": "execute_result"
    }
   ],
   "source": [
    "movies_ratings = movies_ratings.dropna(how='any')\n",
    "movies_ratings2 =movies_ratings[~movies_ratings['budget'].str.match(r'([A-Z]+)')]\n",
    "movies_ratings2 =movies_ratings2[~movies_ratings2['usa_gross_income'].str.match(r'($[A-Z]+\\w)')]\n",
    "movies_ratings2 =movies_ratings2[~movies_ratings2['worlwide_gross_income'].str.match(r'($[A-Z]+\\w)')]\n",
    "movies_ratings2['budget'] = movies_ratings2['budget'].str.replace('$','')\n",
    "movies_ratings2['usa_gross_income'] = movies_ratings2['usa_gross_income'].str.replace('$','')\n",
    "movies_ratings2['worlwide_gross_income'] = movies_ratings2['worlwide_gross_income'].str.replace('$','')\n",
    "movies_ratings2"
   ]
  },
  {
   "cell_type": "code",
   "execution_count": 131,
   "metadata": {},
   "outputs": [],
   "source": [
    "movies_ratings2['budget'] = pd.to_numeric(movies_ratings2['budget'])\n",
    "movies_ratings2['usa_gross_income'] = pd.to_numeric(movies_ratings2['usa_gross_income'])\n",
    "movies_ratings2['worlwide_gross_income'] = pd.to_numeric(movies_ratings2['worlwide_gross_income'])\n"
   ]
  },
  {
   "cell_type": "code",
   "execution_count": 132,
   "metadata": {},
   "outputs": [
    {
     "data": {
      "text/plain": "director\nAaron Blaise, Robert Walker          128000000\nAaron Horvath, Peter Rida Michail     10000000\nAaron Schneider                        7000000\nAaron Seltzer, Jason Friedberg        20000000\nAaron Sorkin                          30000000\n                                       ...    \nZara Hayes                            10000000\nZelda Barron                           5000000\nZiad Doueiri                           3000000\nZoe R. Cassavetes                      2000000\nÉlie Chouraqui                        32000000\nName: budget, Length: 2628, dtype: int64"
     },
     "execution_count": 132,
     "metadata": {},
     "output_type": "execute_result"
    }
   ],
   "source": [
    "director = movies_ratings2.groupby('director')\n",
    "director_movies = director['title'].value_counts()\n",
    "director_totalbudget = director['budget'].sum()\n",
    "director_meanbudget = director['budget'].mean()\n",
    "director_usincome = director['usa_gross_income'].sum()\n",
    "director_usincome = director['usa_gross_income'].mean()\n",
    "director_usincome = director['worlwide_gross_income'].sum()\n",
    "director_usincome = director['worlwide_gross_income'].mean()\n",
    "director_totalbudget"
   ]
  }
 ]
}
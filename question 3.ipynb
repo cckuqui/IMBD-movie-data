{
 "nbformat": 4,
 "nbformat_minor": 2,
 "metadata": {
  "language_info": {
   "name": "python",
   "codemirror_mode": {
    "name": "ipython",
    "version": 3
   },
   "version": "3.7.4-final"
  },
  "orig_nbformat": 2,
  "file_extension": ".py",
  "mimetype": "text/x-python",
  "name": "python",
  "npconvert_exporter": "python",
  "pygments_lexer": "ipython3",
  "version": 3,
  "kernelspec": {
   "name": "python37464bitbaseconda1f272b08825b44268b0b382f97a12fd9",
   "display_name": "Python 3.7.4 64-bit ('base': conda)"
  }
 },
 "cells": [
  {
   "cell_type": "markdown",
   "execution_count": null,
   "metadata": {},
   "outputs": [],
   "source": [
    "# Cuestionamiento 3: Existe una relacion entre el exito ($ y ratings) de una pelicula y el director y/o budget?"
   ]
  },
  {
   "cell_type": "markdown",
   "execution_count": null,
   "metadata": {},
   "outputs": [],
   "source": [
    "Data exploration"
   ]
  },
  {
   "cell_type": "code",
   "execution_count": 1,
   "metadata": {},
   "outputs": [],
   "source": [
    "# Import libraries\n",
    "import matplotlib.pyplot as plt\n",
    "import pandas as pd\n",
    "import numpy as np\n",
    "import scipy.stats as st"
   ]
  },
  {
   "cell_type": "code",
   "execution_count": 2,
   "metadata": {},
   "outputs": [],
   "source": [
    "# Import csv files\n",
    "movies = pd.read_csv('IMDb movies.csv')\n",
    "actors = pd.read_csv('IMDb names.csv')\n",
    "ratings = pd.read_csv('IMDb ratings.csv')\n",
    "title_principals = pd.read_csv('IMDb title_principals.csv')"
   ]
  },
  {
   "cell_type": "code",
   "execution_count": 3,
   "metadata": {},
   "outputs": [],
   "source": [
    "movies = pd.DataFrame(movies)\n",
    "actors = pd.DataFrame(actors)\n",
    "ratings = pd.DataFrame(ratings)\n",
    "title_principals = pd.DataFrame(title_principals)"
   ]
  },
  {
   "cell_type": "code",
   "execution_count": 5,
   "metadata": {},
   "outputs": [
    {
     "data": {
      "text/plain": "Index(['imdb_title_id', 'title', 'original_title', 'year', 'date_published',\n       'genre', 'duration', 'country', 'language', 'director', 'writer',\n       'production_company', 'actors', 'description', 'avg_vote', 'votes',\n       'budget', 'usa_gross_income', 'worlwide_gross_income', 'metascore',\n       'reviews_from_users', 'reviews_from_critics'],\n      dtype='object')"
     },
     "execution_count": 5,
     "metadata": {},
     "output_type": "execute_result"
    }
   ],
   "source": [
    "movies.columns"
   ]
  },
  {
   "cell_type": "code",
   "execution_count": 6,
   "metadata": {},
   "outputs": [
    {
     "data": {
      "text/plain": "Index(['imdb_title_id', 'weighted_average_vote', 'total_votes', 'mean_vote',\n       'median_vote', 'votes_10', 'votes_9', 'votes_8', 'votes_7', 'votes_6',\n       'votes_5', 'votes_4', 'votes_3', 'votes_2', 'votes_1',\n       'allgenders_0age_avg_vote', 'allgenders_0age_votes',\n       'allgenders_18age_avg_vote', 'allgenders_18age_votes',\n       'allgenders_30age_avg_vote', 'allgenders_30age_votes',\n       'allgenders_45age_avg_vote', 'allgenders_45age_votes',\n       'males_allages_avg_vote', 'males_allages_votes', 'males_0age_avg_vote',\n       'males_0age_votes', 'males_18age_avg_vote', 'males_18age_votes',\n       'males_30age_avg_vote', 'males_30age_votes', 'males_45age_avg_vote',\n       'males_45age_votes', 'females_allages_avg_vote',\n       'females_allages_votes', 'females_0age_avg_vote', 'females_0age_votes',\n       'females_18age_avg_vote', 'females_18age_votes',\n       'females_30age_avg_vote', 'females_30age_votes',\n       'females_45age_avg_vote', 'females_45age_votes',\n       'top1000_voters_rating', 'top1000_voters_votes', 'us_voters_rating',\n       'us_voters_votes', 'non_us_voters_rating', 'non_us_voters_votes'],\n      dtype='object')"
     },
     "execution_count": 6,
     "metadata": {},
     "output_type": "execute_result"
    }
   ],
   "source": [
    "ratings.columns"
   ]
  },
  {
   "cell_type": "markdown",
   "execution_count": null,
   "metadata": {},
   "outputs": [],
   "source": [
    "Cleaning Data"
   ]
  },
  {
   "cell_type": "code",
   "execution_count": 7,
   "metadata": {},
   "outputs": [
    {
     "data": {
      "text/html": "<div>\n<style scoped>\n    .dataframe tbody tr th:only-of-type {\n        vertical-align: middle;\n    }\n\n    .dataframe tbody tr th {\n        vertical-align: top;\n    }\n\n    .dataframe thead th {\n        text-align: right;\n    }\n</style>\n<table border=\"1\" class=\"dataframe\">\n  <thead>\n    <tr style=\"text-align: right;\">\n      <th></th>\n      <th>imdb_title_id</th>\n      <th>title</th>\n      <th>original_title</th>\n      <th>year</th>\n      <th>date_published</th>\n      <th>genre</th>\n      <th>duration</th>\n      <th>country</th>\n      <th>language</th>\n      <th>director</th>\n      <th>...</th>\n      <th>budget</th>\n      <th>usa_gross_income</th>\n      <th>worlwide_gross_income</th>\n      <th>metascore</th>\n      <th>reviews_from_users</th>\n      <th>reviews_from_critics</th>\n      <th>us_voters_rating</th>\n      <th>us_voters_votes</th>\n      <th>non_us_voters_rating</th>\n      <th>non_us_voters_votes</th>\n    </tr>\n  </thead>\n  <tbody>\n    <tr>\n      <td>0</td>\n      <td>tt0000574</td>\n      <td>The Story of the Kelly Gang</td>\n      <td>The Story of the Kelly Gang</td>\n      <td>1906</td>\n      <td>1906-12-26</td>\n      <td>Biography, Crime, Drama</td>\n      <td>70</td>\n      <td>Australia</td>\n      <td>NaN</td>\n      <td>Charles Tait</td>\n      <td>...</td>\n      <td>$ 2250</td>\n      <td>NaN</td>\n      <td>NaN</td>\n      <td>NaN</td>\n      <td>7.0</td>\n      <td>7.0</td>\n      <td>6.0</td>\n      <td>89.0</td>\n      <td>6.2</td>\n      <td>309.0</td>\n    </tr>\n    <tr>\n      <td>1</td>\n      <td>tt0001892</td>\n      <td>Den sorte drøm</td>\n      <td>Den sorte drøm</td>\n      <td>1911</td>\n      <td>1911-08-19</td>\n      <td>Drama</td>\n      <td>53</td>\n      <td>Germany, Denmark</td>\n      <td>NaN</td>\n      <td>Urban Gad</td>\n      <td>...</td>\n      <td>NaN</td>\n      <td>NaN</td>\n      <td>NaN</td>\n      <td>NaN</td>\n      <td>4.0</td>\n      <td>2.0</td>\n      <td>6.2</td>\n      <td>27.0</td>\n      <td>6.0</td>\n      <td>114.0</td>\n    </tr>\n    <tr>\n      <td>2</td>\n      <td>tt0002101</td>\n      <td>Cleopatra</td>\n      <td>Cleopatra</td>\n      <td>1912</td>\n      <td>1912-11-13</td>\n      <td>Drama, History</td>\n      <td>100</td>\n      <td>USA</td>\n      <td>English</td>\n      <td>Charles L. Gaskill</td>\n      <td>...</td>\n      <td>$ 45000</td>\n      <td>NaN</td>\n      <td>NaN</td>\n      <td>NaN</td>\n      <td>24.0</td>\n      <td>3.0</td>\n      <td>5.5</td>\n      <td>197.0</td>\n      <td>4.7</td>\n      <td>103.0</td>\n    </tr>\n    <tr>\n      <td>3</td>\n      <td>tt0002130</td>\n      <td>L'Inferno</td>\n      <td>L'Inferno</td>\n      <td>1911</td>\n      <td>1911-03-06</td>\n      <td>Adventure, Drama, Fantasy</td>\n      <td>68</td>\n      <td>Italy</td>\n      <td>Italian</td>\n      <td>Francesco Bertolini, Adolfo Padovan</td>\n      <td>...</td>\n      <td>NaN</td>\n      <td>NaN</td>\n      <td>NaN</td>\n      <td>NaN</td>\n      <td>28.0</td>\n      <td>14.0</td>\n      <td>7.1</td>\n      <td>452.0</td>\n      <td>7.0</td>\n      <td>1076.0</td>\n    </tr>\n    <tr>\n      <td>4</td>\n      <td>tt0002199</td>\n      <td>From the Manger to the Cross; or, Jesus of Naz...</td>\n      <td>From the Manger to the Cross; or, Jesus of Naz...</td>\n      <td>1912</td>\n      <td>1913</td>\n      <td>Biography, Drama</td>\n      <td>60</td>\n      <td>USA</td>\n      <td>English</td>\n      <td>Sidney Olcott</td>\n      <td>...</td>\n      <td>NaN</td>\n      <td>NaN</td>\n      <td>NaN</td>\n      <td>NaN</td>\n      <td>12.0</td>\n      <td>5.0</td>\n      <td>5.9</td>\n      <td>161.0</td>\n      <td>5.7</td>\n      <td>164.0</td>\n    </tr>\n    <tr>\n      <td>...</td>\n      <td>...</td>\n      <td>...</td>\n      <td>...</td>\n      <td>...</td>\n      <td>...</td>\n      <td>...</td>\n      <td>...</td>\n      <td>...</td>\n      <td>...</td>\n      <td>...</td>\n      <td>...</td>\n      <td>...</td>\n      <td>...</td>\n      <td>...</td>\n      <td>...</td>\n      <td>...</td>\n      <td>...</td>\n      <td>...</td>\n      <td>...</td>\n      <td>...</td>\n      <td>...</td>\n    </tr>\n    <tr>\n      <td>81268</td>\n      <td>tt9903716</td>\n      <td>Jessie</td>\n      <td>Jessie</td>\n      <td>2019</td>\n      <td>2019-03-15</td>\n      <td>Horror, Thriller</td>\n      <td>106</td>\n      <td>India</td>\n      <td>Telugu</td>\n      <td>Aswani Kumar V.</td>\n      <td>...</td>\n      <td>NaN</td>\n      <td>NaN</td>\n      <td>NaN</td>\n      <td>NaN</td>\n      <td>21.0</td>\n      <td>NaN</td>\n      <td>5.0</td>\n      <td>14.0</td>\n      <td>7.1</td>\n      <td>45.0</td>\n    </tr>\n    <tr>\n      <td>81269</td>\n      <td>tt9905412</td>\n      <td>Ottam</td>\n      <td>Ottam</td>\n      <td>2019</td>\n      <td>2019-03-08</td>\n      <td>Drama</td>\n      <td>120</td>\n      <td>India</td>\n      <td>Malayalam</td>\n      <td>Zam</td>\n      <td>...</td>\n      <td>INR 4000000</td>\n      <td>NaN</td>\n      <td>$ 4791</td>\n      <td>NaN</td>\n      <td>NaN</td>\n      <td>NaN</td>\n      <td>NaN</td>\n      <td>NaN</td>\n      <td>1.0</td>\n      <td>3.0</td>\n    </tr>\n    <tr>\n      <td>81270</td>\n      <td>tt9905462</td>\n      <td>Pengalila</td>\n      <td>Pengalila</td>\n      <td>2019</td>\n      <td>2019-03-08</td>\n      <td>Drama</td>\n      <td>111</td>\n      <td>India</td>\n      <td>Malayalam</td>\n      <td>T.V. Chandran</td>\n      <td>...</td>\n      <td>INR 10000000</td>\n      <td>NaN</td>\n      <td>NaN</td>\n      <td>NaN</td>\n      <td>NaN</td>\n      <td>NaN</td>\n      <td>NaN</td>\n      <td>NaN</td>\n      <td>4.0</td>\n      <td>3.0</td>\n    </tr>\n    <tr>\n      <td>81271</td>\n      <td>tt9911774</td>\n      <td>Padmavyuhathile Abhimanyu</td>\n      <td>Padmavyuhathile Abhimanyu</td>\n      <td>2019</td>\n      <td>2019-03-08</td>\n      <td>Drama</td>\n      <td>130</td>\n      <td>India</td>\n      <td>Malayalam</td>\n      <td>Vineesh Aaradya</td>\n      <td>...</td>\n      <td>NaN</td>\n      <td>NaN</td>\n      <td>NaN</td>\n      <td>NaN</td>\n      <td>NaN</td>\n      <td>NaN</td>\n      <td>NaN</td>\n      <td>NaN</td>\n      <td>1.0</td>\n      <td>1.0</td>\n    </tr>\n    <tr>\n      <td>81272</td>\n      <td>tt9914286</td>\n      <td>Sokagin Çocuklari</td>\n      <td>Sokagin Çocuklari</td>\n      <td>2019</td>\n      <td>2019-03-15</td>\n      <td>Drama, Family</td>\n      <td>98</td>\n      <td>Turkey</td>\n      <td>Turkish</td>\n      <td>Ahmet Faik Akinci</td>\n      <td>...</td>\n      <td>NaN</td>\n      <td>NaN</td>\n      <td>$ 2833</td>\n      <td>NaN</td>\n      <td>NaN</td>\n      <td>NaN</td>\n      <td>1.7</td>\n      <td>5.0</td>\n      <td>6.2</td>\n      <td>5.0</td>\n    </tr>\n  </tbody>\n</table>\n<p>81273 rows × 26 columns</p>\n</div>",
      "text/plain": "      imdb_title_id                                              title  \\\n0         tt0000574                        The Story of the Kelly Gang   \n1         tt0001892                                     Den sorte drøm   \n2         tt0002101                                          Cleopatra   \n3         tt0002130                                          L'Inferno   \n4         tt0002199  From the Manger to the Cross; or, Jesus of Naz...   \n...             ...                                                ...   \n81268     tt9903716                                             Jessie   \n81269     tt9905412                                              Ottam   \n81270     tt9905462                                          Pengalila   \n81271     tt9911774                          Padmavyuhathile Abhimanyu   \n81272     tt9914286                                  Sokagin Çocuklari   \n\n                                          original_title  year date_published  \\\n0                            The Story of the Kelly Gang  1906     1906-12-26   \n1                                         Den sorte drøm  1911     1911-08-19   \n2                                              Cleopatra  1912     1912-11-13   \n3                                              L'Inferno  1911     1911-03-06   \n4      From the Manger to the Cross; or, Jesus of Naz...  1912           1913   \n...                                                  ...   ...            ...   \n81268                                             Jessie  2019     2019-03-15   \n81269                                              Ottam  2019     2019-03-08   \n81270                                          Pengalila  2019     2019-03-08   \n81271                          Padmavyuhathile Abhimanyu  2019     2019-03-08   \n81272                                  Sokagin Çocuklari  2019     2019-03-15   \n\n                           genre  duration           country   language  \\\n0        Biography, Crime, Drama        70         Australia        NaN   \n1                          Drama        53  Germany, Denmark        NaN   \n2                 Drama, History       100               USA    English   \n3      Adventure, Drama, Fantasy        68             Italy    Italian   \n4               Biography, Drama        60               USA    English   \n...                          ...       ...               ...        ...   \n81268           Horror, Thriller       106             India     Telugu   \n81269                      Drama       120             India  Malayalam   \n81270                      Drama       111             India  Malayalam   \n81271                      Drama       130             India  Malayalam   \n81272              Drama, Family        98            Turkey    Turkish   \n\n                                  director  ...        budget  \\\n0                             Charles Tait  ...        $ 2250   \n1                                Urban Gad  ...           NaN   \n2                       Charles L. Gaskill  ...       $ 45000   \n3      Francesco Bertolini, Adolfo Padovan  ...           NaN   \n4                            Sidney Olcott  ...           NaN   \n...                                    ...  ...           ...   \n81268                      Aswani Kumar V.  ...           NaN   \n81269                                  Zam  ...   INR 4000000   \n81270                        T.V. Chandran  ...  INR 10000000   \n81271                      Vineesh Aaradya  ...           NaN   \n81272                    Ahmet Faik Akinci  ...           NaN   \n\n      usa_gross_income worlwide_gross_income metascore  reviews_from_users  \\\n0                  NaN                   NaN       NaN                 7.0   \n1                  NaN                   NaN       NaN                 4.0   \n2                  NaN                   NaN       NaN                24.0   \n3                  NaN                   NaN       NaN                28.0   \n4                  NaN                   NaN       NaN                12.0   \n...                ...                   ...       ...                 ...   \n81268              NaN                   NaN       NaN                21.0   \n81269              NaN                $ 4791       NaN                 NaN   \n81270              NaN                   NaN       NaN                 NaN   \n81271              NaN                   NaN       NaN                 NaN   \n81272              NaN                $ 2833       NaN                 NaN   \n\n       reviews_from_critics us_voters_rating us_voters_votes  \\\n0                       7.0              6.0            89.0   \n1                       2.0              6.2            27.0   \n2                       3.0              5.5           197.0   \n3                      14.0              7.1           452.0   \n4                       5.0              5.9           161.0   \n...                     ...              ...             ...   \n81268                   NaN              5.0            14.0   \n81269                   NaN              NaN             NaN   \n81270                   NaN              NaN             NaN   \n81271                   NaN              NaN             NaN   \n81272                   NaN              1.7             5.0   \n\n      non_us_voters_rating  non_us_voters_votes  \n0                      6.2                309.0  \n1                      6.0                114.0  \n2                      4.7                103.0  \n3                      7.0               1076.0  \n4                      5.7                164.0  \n...                    ...                  ...  \n81268                  7.1                 45.0  \n81269                  1.0                  3.0  \n81270                  4.0                  3.0  \n81271                  1.0                  1.0  \n81272                  6.2                  5.0  \n\n[81273 rows x 26 columns]"
     },
     "execution_count": 7,
     "metadata": {},
     "output_type": "execute_result"
    }
   ],
   "source": [
    "movies = pd.merge(movies,ratings[['imdb_title_id','us_voters_rating','us_voters_votes','non_us_voters_rating','non_us_voters_votes']],on='imdb_title_id',how='left')\n",
    "movies"
   ]
  },
  {
   "cell_type": "code",
   "execution_count": 8,
   "metadata": {},
   "outputs": [
    {
     "data": {
      "text/html": "<div>\n<style scoped>\n    .dataframe tbody tr th:only-of-type {\n        vertical-align: middle;\n    }\n\n    .dataframe tbody tr th {\n        vertical-align: top;\n    }\n\n    .dataframe thead th {\n        text-align: right;\n    }\n</style>\n<table border=\"1\" class=\"dataframe\">\n  <thead>\n    <tr style=\"text-align: right;\">\n      <th></th>\n      <th>imdb_title_id</th>\n      <th>title</th>\n      <th>year</th>\n      <th>date_published</th>\n      <th>genre</th>\n      <th>country</th>\n      <th>language</th>\n      <th>director</th>\n      <th>writer</th>\n      <th>production_company</th>\n      <th>...</th>\n      <th>avg_vote</th>\n      <th>votes</th>\n      <th>budget</th>\n      <th>usa_gross_income</th>\n      <th>worlwide_gross_income</th>\n      <th>metascore</th>\n      <th>us_voters_rating</th>\n      <th>us_voters_votes</th>\n      <th>non_us_voters_rating</th>\n      <th>non_us_voters_votes</th>\n    </tr>\n  </thead>\n  <tbody>\n    <tr>\n      <td>0</td>\n      <td>tt0021749</td>\n      <td>City Lights</td>\n      <td>1931</td>\n      <td>1931-08-21</td>\n      <td>Comedy, Drama, Romance</td>\n      <td>USA</td>\n      <td>English</td>\n      <td>Charles Chaplin</td>\n      <td>Charles Chaplin</td>\n      <td>Charles Chaplin Productions</td>\n      <td>...</td>\n      <td>8.5</td>\n      <td>152716</td>\n      <td>1500000</td>\n      <td>19181</td>\n      <td>32609</td>\n      <td>99.0</td>\n      <td>8.5</td>\n      <td>26265.0</td>\n      <td>8.5</td>\n      <td>69116.0</td>\n    </tr>\n    <tr>\n      <td>1</td>\n      <td>tt0027977</td>\n      <td>Modern Times</td>\n      <td>1936</td>\n      <td>1936-10-16</td>\n      <td>Comedy, Drama, Family</td>\n      <td>USA</td>\n      <td>English</td>\n      <td>Charles Chaplin</td>\n      <td>Charles Chaplin</td>\n      <td>Charles Chaplin Productions</td>\n      <td>...</td>\n      <td>8.5</td>\n      <td>197969</td>\n      <td>1500000</td>\n      <td>163577</td>\n      <td>445226</td>\n      <td>96.0</td>\n      <td>8.5</td>\n      <td>28002.0</td>\n      <td>8.5</td>\n      <td>92614.0</td>\n    </tr>\n    <tr>\n      <td>2</td>\n      <td>tt0029583</td>\n      <td>Snow White and the Seven Dwarfs</td>\n      <td>1937</td>\n      <td>1938-07-08</td>\n      <td>Animation, Family, Fantasy</td>\n      <td>USA</td>\n      <td>English</td>\n      <td>William Cottrell, David Hand</td>\n      <td>Jacob Grimm, Wilhelm Grimm</td>\n      <td>Walt Disney Productions</td>\n      <td>...</td>\n      <td>7.6</td>\n      <td>168735</td>\n      <td>1499000</td>\n      <td>184925486</td>\n      <td>184925486</td>\n      <td>95.0</td>\n      <td>7.7</td>\n      <td>37903.0</td>\n      <td>7.6</td>\n      <td>70466.0</td>\n    </tr>\n    <tr>\n      <td>3</td>\n      <td>tt0031381</td>\n      <td>Gone with the Wind</td>\n      <td>1939</td>\n      <td>1942-09-04</td>\n      <td>Drama, History, Romance</td>\n      <td>USA</td>\n      <td>English</td>\n      <td>Victor Fleming, George Cukor</td>\n      <td>Margaret Mitchell, Sidney Howard</td>\n      <td>Selznick International Pictures</td>\n      <td>...</td>\n      <td>8.1</td>\n      <td>269664</td>\n      <td>3977000</td>\n      <td>200852579</td>\n      <td>402352579</td>\n      <td>97.0</td>\n      <td>8.2</td>\n      <td>63770.0</td>\n      <td>8.1</td>\n      <td>108032.0</td>\n    </tr>\n    <tr>\n      <td>4</td>\n      <td>tt0031679</td>\n      <td>Mr. Smith Goes to Washington</td>\n      <td>1939</td>\n      <td>1940-05-03</td>\n      <td>Comedy, Drama</td>\n      <td>USA</td>\n      <td>English</td>\n      <td>Frank Capra</td>\n      <td>Sidney Buchman, Lewis R. Foster</td>\n      <td>Columbia Pictures</td>\n      <td>...</td>\n      <td>8.1</td>\n      <td>100206</td>\n      <td>1900000</td>\n      <td>144738</td>\n      <td>144738</td>\n      <td>73.0</td>\n      <td>8.3</td>\n      <td>34275.0</td>\n      <td>8.0</td>\n      <td>32212.0</td>\n    </tr>\n    <tr>\n      <td>...</td>\n      <td>...</td>\n      <td>...</td>\n      <td>...</td>\n      <td>...</td>\n      <td>...</td>\n      <td>...</td>\n      <td>...</td>\n      <td>...</td>\n      <td>...</td>\n      <td>...</td>\n      <td>...</td>\n      <td>...</td>\n      <td>...</td>\n      <td>...</td>\n      <td>...</td>\n      <td>...</td>\n      <td>...</td>\n      <td>...</td>\n      <td>...</td>\n      <td>...</td>\n      <td>...</td>\n    </tr>\n    <tr>\n      <td>5909</td>\n      <td>tt8772262</td>\n      <td>Midsommar</td>\n      <td>2019</td>\n      <td>2019-07-03</td>\n      <td>Drama, Horror, Mystery</td>\n      <td>USA, Sweden, Hungary</td>\n      <td>English, Swedish</td>\n      <td>Ari Aster</td>\n      <td>Ari Aster</td>\n      <td>Proton Cinema</td>\n      <td>...</td>\n      <td>7.2</td>\n      <td>78830</td>\n      <td>10000000</td>\n      <td>27426361</td>\n      <td>41123770</td>\n      <td>72.0</td>\n      <td>7.5</td>\n      <td>12466.0</td>\n      <td>7.1</td>\n      <td>29604.0</td>\n    </tr>\n    <tr>\n      <td>5910</td>\n      <td>tt9024106</td>\n      <td>Unplanned</td>\n      <td>2019</td>\n      <td>2019-10-04</td>\n      <td>Biography, Drama</td>\n      <td>USA</td>\n      <td>English</td>\n      <td>Chuck Konzelman, Cary Solomon</td>\n      <td>Abby Johnson, Chuck Konzelman</td>\n      <td>Unplanned Movie</td>\n      <td>...</td>\n      <td>5.8</td>\n      <td>10783</td>\n      <td>6000000</td>\n      <td>19005109</td>\n      <td>19320481</td>\n      <td>10.0</td>\n      <td>6.1</td>\n      <td>2376.0</td>\n      <td>4.8</td>\n      <td>2524.0</td>\n    </tr>\n    <tr>\n      <td>5911</td>\n      <td>tt9082020</td>\n      <td>Cold Blood Legacy</td>\n      <td>2019</td>\n      <td>2019-05-15</td>\n      <td>Action, Thriller</td>\n      <td>France, Ukraine, Belgium</td>\n      <td>French, English</td>\n      <td>Frédéric Petitjean</td>\n      <td>Frédéric Petitjean</td>\n      <td>Ascot Elite Entertainment Group</td>\n      <td>...</td>\n      <td>4.5</td>\n      <td>2193</td>\n      <td>2700000</td>\n      <td>5083</td>\n      <td>1009888</td>\n      <td>25.0</td>\n      <td>4.5</td>\n      <td>214.0</td>\n      <td>4.5</td>\n      <td>1056.0</td>\n    </tr>\n    <tr>\n      <td>5912</td>\n      <td>tt9134216</td>\n      <td>Playing with Fire</td>\n      <td>2019</td>\n      <td>2019-11-08</td>\n      <td>Comedy, Family</td>\n      <td>USA</td>\n      <td>English</td>\n      <td>Andy Fickman</td>\n      <td>Dan Ewen, Matt Lieberman</td>\n      <td>Broken Road Productions</td>\n      <td>...</td>\n      <td>4.5</td>\n      <td>1067</td>\n      <td>29900000</td>\n      <td>18847824</td>\n      <td>21788746</td>\n      <td>24.0</td>\n      <td>4.7</td>\n      <td>336.0</td>\n      <td>4.3</td>\n      <td>190.0</td>\n    </tr>\n    <tr>\n      <td>5913</td>\n      <td>tt9354944</td>\n      <td>Jexi</td>\n      <td>2019</td>\n      <td>2019-10-11</td>\n      <td>Comedy</td>\n      <td>USA</td>\n      <td>English</td>\n      <td>Jon Lucas, Scott Moore</td>\n      <td>Jon Lucas, Scott Moore</td>\n      <td>CBS Films</td>\n      <td>...</td>\n      <td>6.6</td>\n      <td>3674</td>\n      <td>5000000</td>\n      <td>6546159</td>\n      <td>7257918</td>\n      <td>39.0</td>\n      <td>5.7</td>\n      <td>514.0</td>\n      <td>5.6</td>\n      <td>186.0</td>\n    </tr>\n  </tbody>\n</table>\n<p>5914 rows × 21 columns</p>\n</div>",
      "text/plain": "     imdb_title_id                            title  year date_published  \\\n0        tt0021749                      City Lights  1931     1931-08-21   \n1        tt0027977                     Modern Times  1936     1936-10-16   \n2        tt0029583  Snow White and the Seven Dwarfs  1937     1938-07-08   \n3        tt0031381               Gone with the Wind  1939     1942-09-04   \n4        tt0031679     Mr. Smith Goes to Washington  1939     1940-05-03   \n...            ...                              ...   ...            ...   \n5909     tt8772262                        Midsommar  2019     2019-07-03   \n5910     tt9024106                        Unplanned  2019     2019-10-04   \n5911     tt9082020                Cold Blood Legacy  2019     2019-05-15   \n5912     tt9134216                Playing with Fire  2019     2019-11-08   \n5913     tt9354944                             Jexi  2019     2019-10-11   \n\n                           genre                   country          language  \\\n0         Comedy, Drama, Romance                       USA           English   \n1          Comedy, Drama, Family                       USA           English   \n2     Animation, Family, Fantasy                       USA           English   \n3        Drama, History, Romance                       USA           English   \n4                  Comedy, Drama                       USA           English   \n...                          ...                       ...               ...   \n5909      Drama, Horror, Mystery      USA, Sweden, Hungary  English, Swedish   \n5910            Biography, Drama                       USA           English   \n5911            Action, Thriller  France, Ukraine, Belgium   French, English   \n5912              Comedy, Family                       USA           English   \n5913                      Comedy                       USA           English   \n\n                           director                            writer  \\\n0                   Charles Chaplin                   Charles Chaplin   \n1                   Charles Chaplin                   Charles Chaplin   \n2      William Cottrell, David Hand        Jacob Grimm, Wilhelm Grimm   \n3      Victor Fleming, George Cukor  Margaret Mitchell, Sidney Howard   \n4                       Frank Capra   Sidney Buchman, Lewis R. Foster   \n...                             ...                               ...   \n5909                      Ari Aster                         Ari Aster   \n5910  Chuck Konzelman, Cary Solomon     Abby Johnson, Chuck Konzelman   \n5911             Frédéric Petitjean                Frédéric Petitjean   \n5912                   Andy Fickman          Dan Ewen, Matt Lieberman   \n5913         Jon Lucas, Scott Moore            Jon Lucas, Scott Moore   \n\n                   production_company  ... avg_vote   votes     budget  \\\n0         Charles Chaplin Productions  ...      8.5  152716    1500000   \n1         Charles Chaplin Productions  ...      8.5  197969    1500000   \n2             Walt Disney Productions  ...      7.6  168735    1499000   \n3     Selznick International Pictures  ...      8.1  269664    3977000   \n4                   Columbia Pictures  ...      8.1  100206    1900000   \n...                               ...  ...      ...     ...        ...   \n5909                    Proton Cinema  ...      7.2   78830   10000000   \n5910                  Unplanned Movie  ...      5.8   10783    6000000   \n5911  Ascot Elite Entertainment Group  ...      4.5    2193    2700000   \n5912          Broken Road Productions  ...      4.5    1067   29900000   \n5913                        CBS Films  ...      6.6    3674    5000000   \n\n     usa_gross_income worlwide_gross_income metascore  us_voters_rating  \\\n0               19181                 32609      99.0               8.5   \n1              163577                445226      96.0               8.5   \n2           184925486             184925486      95.0               7.7   \n3           200852579             402352579      97.0               8.2   \n4              144738                144738      73.0               8.3   \n...               ...                   ...       ...               ...   \n5909         27426361              41123770      72.0               7.5   \n5910         19005109              19320481      10.0               6.1   \n5911             5083               1009888      25.0               4.5   \n5912         18847824              21788746      24.0               4.7   \n5913          6546159               7257918      39.0               5.7   \n\n      us_voters_votes  non_us_voters_rating  non_us_voters_votes  \n0             26265.0                   8.5              69116.0  \n1             28002.0                   8.5              92614.0  \n2             37903.0                   7.6              70466.0  \n3             63770.0                   8.1             108032.0  \n4             34275.0                   8.0              32212.0  \n...               ...                   ...                  ...  \n5909          12466.0                   7.1              29604.0  \n5910           2376.0                   4.8               2524.0  \n5911            214.0                   4.5               1056.0  \n5912            336.0                   4.3                190.0  \n5913            514.0                   5.6                186.0  \n\n[5914 rows x 21 columns]"
     },
     "execution_count": 8,
     "metadata": {},
     "output_type": "execute_result"
    }
   ],
   "source": [
    "# Delet columns that we don't need, drop all NaN and reset index\n",
    "movies = movies.drop(['reviews_from_users','reviews_from_critics','original_title','duration','description'],axis=1)\n",
    "movies = movies.dropna(how='any')\n",
    "\n",
    "# Delet budget and gross income in other currencies\n",
    "movies = movies[~movies['budget'].str.match(r'([A-Z]+)')]\n",
    "movies = movies[~movies['usa_gross_income'].str.match(r'($[A-Z]+\\w)')]\n",
    "movies = movies[~movies['worlwide_gross_income'].str.match(r'($[A-Z]+\\w)')]\n",
    "\n",
    "# Delet '$' symbol from table\n",
    "movies['budget'] = movies['budget'].str.replace('$','')\n",
    "movies['usa_gross_income'] = movies['usa_gross_income'].str.replace('$','')\n",
    "movies['worlwide_gross_income'] = movies['worlwide_gross_income'].str.replace('$','')\n",
    "\n",
    "movies = movies.reset_index(drop=True)\n",
    "\n",
    "movies"
   ]
  },
  {
   "cell_type": "code",
   "execution_count": 9,
   "metadata": {},
   "outputs": [],
   "source": [
    "# Convert budget and gross income to number\n",
    "movies['budget'] = pd.to_numeric(movies['budget'])\n",
    "movies['usa_gross_income'] = pd.to_numeric(movies['usa_gross_income'])\n",
    "movies['worlwide_gross_income'] = pd.to_numeric(movies['worlwide_gross_income'])\n",
    "\n",
    "# Transform values to k\n",
    "movies['budget'] = movies['budget']/100\n",
    "movies['usa_gross_income'] = movies['usa_gross_income']/100\n",
    "movies['worlwide_gross_income'] = movies['worlwide_gross_income']/100"
   ]
  },
  {
   "cell_type": "code",
   "execution_count": 10,
   "metadata": {},
   "outputs": [
    {
     "data": {
      "text/html": "<div>\n<style scoped>\n    .dataframe tbody tr th:only-of-type {\n        vertical-align: middle;\n    }\n\n    .dataframe tbody tr th {\n        vertical-align: top;\n    }\n\n    .dataframe thead th {\n        text-align: right;\n    }\n</style>\n<table border=\"1\" class=\"dataframe\">\n  <thead>\n    <tr style=\"text-align: right;\">\n      <th></th>\n      <th>title</th>\n      <th>budget</th>\n      <th>usa_gross_income</th>\n      <th>worlwide_gross_income</th>\n      <th>revenue_usa</th>\n      <th>revenue_worlwide</th>\n    </tr>\n  </thead>\n  <tbody>\n    <tr>\n      <td>0</td>\n      <td>City Lights</td>\n      <td>15000.0</td>\n      <td>191.81</td>\n      <td>326.09</td>\n      <td>-14808.19</td>\n      <td>-14673.91</td>\n    </tr>\n    <tr>\n      <td>1</td>\n      <td>Modern Times</td>\n      <td>15000.0</td>\n      <td>1635.77</td>\n      <td>4452.26</td>\n      <td>-13364.23</td>\n      <td>-10547.74</td>\n    </tr>\n    <tr>\n      <td>2</td>\n      <td>Snow White and the Seven Dwarfs</td>\n      <td>14990.0</td>\n      <td>1849254.86</td>\n      <td>1849254.86</td>\n      <td>1834264.86</td>\n      <td>1834264.86</td>\n    </tr>\n    <tr>\n      <td>3</td>\n      <td>Gone with the Wind</td>\n      <td>39770.0</td>\n      <td>2008525.79</td>\n      <td>4023525.79</td>\n      <td>1968755.79</td>\n      <td>3983755.79</td>\n    </tr>\n    <tr>\n      <td>4</td>\n      <td>Mr. Smith Goes to Washington</td>\n      <td>19000.0</td>\n      <td>1447.38</td>\n      <td>1447.38</td>\n      <td>-17552.62</td>\n      <td>-17552.62</td>\n    </tr>\n    <tr>\n      <td>...</td>\n      <td>...</td>\n      <td>...</td>\n      <td>...</td>\n      <td>...</td>\n      <td>...</td>\n      <td>...</td>\n    </tr>\n    <tr>\n      <td>5909</td>\n      <td>Midsommar</td>\n      <td>100000.0</td>\n      <td>274263.61</td>\n      <td>411237.70</td>\n      <td>174263.61</td>\n      <td>311237.70</td>\n    </tr>\n    <tr>\n      <td>5910</td>\n      <td>Unplanned</td>\n      <td>60000.0</td>\n      <td>190051.09</td>\n      <td>193204.81</td>\n      <td>130051.09</td>\n      <td>133204.81</td>\n    </tr>\n    <tr>\n      <td>5911</td>\n      <td>Cold Blood Legacy</td>\n      <td>27000.0</td>\n      <td>50.83</td>\n      <td>10098.88</td>\n      <td>-26949.17</td>\n      <td>-16901.12</td>\n    </tr>\n    <tr>\n      <td>5912</td>\n      <td>Playing with Fire</td>\n      <td>299000.0</td>\n      <td>188478.24</td>\n      <td>217887.46</td>\n      <td>-110521.76</td>\n      <td>-81112.54</td>\n    </tr>\n    <tr>\n      <td>5913</td>\n      <td>Jexi</td>\n      <td>50000.0</td>\n      <td>65461.59</td>\n      <td>72579.18</td>\n      <td>15461.59</td>\n      <td>22579.18</td>\n    </tr>\n  </tbody>\n</table>\n<p>5914 rows × 6 columns</p>\n</div>",
      "text/plain": "                                title    budget  usa_gross_income  \\\n0                         City Lights   15000.0            191.81   \n1                        Modern Times   15000.0           1635.77   \n2     Snow White and the Seven Dwarfs   14990.0        1849254.86   \n3                  Gone with the Wind   39770.0        2008525.79   \n4        Mr. Smith Goes to Washington   19000.0           1447.38   \n...                               ...       ...               ...   \n5909                        Midsommar  100000.0         274263.61   \n5910                        Unplanned   60000.0         190051.09   \n5911                Cold Blood Legacy   27000.0             50.83   \n5912                Playing with Fire  299000.0         188478.24   \n5913                             Jexi   50000.0          65461.59   \n\n      worlwide_gross_income  revenue_usa  revenue_worlwide  \n0                    326.09    -14808.19         -14673.91  \n1                   4452.26    -13364.23         -10547.74  \n2                1849254.86   1834264.86        1834264.86  \n3                4023525.79   1968755.79        3983755.79  \n4                   1447.38    -17552.62         -17552.62  \n...                     ...          ...               ...  \n5909              411237.70    174263.61         311237.70  \n5910              193204.81    130051.09         133204.81  \n5911               10098.88    -26949.17         -16901.12  \n5912              217887.46   -110521.76         -81112.54  \n5913               72579.18     15461.59          22579.18  \n\n[5914 rows x 6 columns]"
     },
     "execution_count": 10,
     "metadata": {},
     "output_type": "execute_result"
    }
   ],
   "source": [
    "# Create revenues from income minus budget\n",
    "revenue_us = movies['usa_gross_income'] - movies['budget']\n",
    "revenue_ww = movies['worlwide_gross_income'] - movies['budget']\n",
    "\n",
    "# Add values to dataframe\n",
    "movies['revenue_usa'] = revenue_us\n",
    "movies['revenue_worlwide'] = revenue_ww\n",
    "\n",
    "# Display preview of new columns\n",
    "movies[['title','budget','usa_gross_income','worlwide_gross_income','revenue_usa','revenue_worlwide']]"
   ]
  },
  {
   "cell_type": "markdown",
   "execution_count": null,
   "metadata": {},
   "outputs": [],
   "source": [
    "Summary stats"
   ]
  },
  {
   "cell_type": "code",
   "execution_count": 10,
   "metadata": {},
   "outputs": [],
   "source": [
    "# Group data base by director and count movies\n",
    "director = movies.groupby('director')\n",
    "director_movies = movies['director'].value_counts()\n",
    "\n",
    "# Stats information of budget\n",
    "director_budget_sum = director['budget'].sum()\n",
    "director_budget_mean = director['budget'].mean()\n",
    "director_budget_median = director['budget'].median()\n",
    "director_budget_var = director['budget'].var()\n",
    "director_budget_sem = director['budget'].sem()\n",
    "\n",
    "# # Stats information of revenue in us\n",
    "director_usrevenue_sum = director['revenue_usa'].sum()\n",
    "director_usrevenue_mean = director['revenue_usa'].mean()\n",
    "director_usrevenue_median = director['revenue_usa'].median()\n",
    "director_usrevenue_var = director['revenue_usa'].var()\n",
    "director_usrevenue_sem = director['revenue_usa'].sem()\n",
    "\n",
    "# Stats information of revenue worldwide\n",
    "director_wwrevenue_sum = director['revenue_worlwide'].sum()\n",
    "director_wwrevenue_mean = director['revenue_worlwide'].mean()\n",
    "director_wwrevenue_median = director['revenue_worlwide'].median()\n",
    "director_wwrevenue_var = director['revenue_worlwide'].var()\n",
    "director_wwrevenue_sem = director['revenue_worlwide'].sem()\n",
    "\n",
    "# Stats information of ratings in us\n",
    "director_ratings_sum = director[''].sum()\n",
    "director_ratings_mean = director['avg_vote'].mean()\n",
    "director_ratings_median = director['avg_vote'].median()\n",
    "director_ratings_var = director['avg_vote'].var()\n",
    "director_ratings_sem = director['avg_vote'].sem()\n",
    "\n",
    "# Stats information of ratings worldwide\n",
    "director_ratings_sum = director['avg_vote'].sum()\n",
    "director_ratings_mean = director['avg_vote'].mean()\n",
    "director_ratings_median = director['avg_vote'].median()\n",
    "director_ratings_var = director['avg_vote'].var()\n",
    "director_ratings_sem = director['avg_vote'].sem()"
   ]
  },
  {
   "cell_type": "code",
   "execution_count": null,
   "metadata": {},
   "outputs": [],
   "source": []
  }
 ]
}
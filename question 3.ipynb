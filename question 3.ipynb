{
 "nbformat": 4,
 "nbformat_minor": 2,
 "metadata": {
  "language_info": {
   "name": "python",
   "codemirror_mode": {
    "name": "ipython",
    "version": 3
   },
   "version": "3.7.4-final"
  },
  "orig_nbformat": 2,
  "file_extension": ".py",
  "mimetype": "text/x-python",
  "name": "python",
  "npconvert_exporter": "python",
  "pygments_lexer": "ipython3",
  "version": 3,
  "kernelspec": {
   "name": "python37464bitbaseconda1f272b08825b44268b0b382f97a12fd9",
   "display_name": "Python 3.7.4 64-bit ('base': conda)"
  }
 },
 "cells": [
  {
   "cell_type": "markdown",
   "execution_count": null,
   "metadata": {},
   "outputs": [],
   "source": [
    "# Cuestionamiento 3: Existe una relacion entre el exito ($ y ratings) de una pelicula y el director y/o budget?"
   ]
  },
  {
   "cell_type": "markdown",
   "execution_count": null,
   "metadata": {},
   "outputs": [],
   "source": [
    "Data exploration"
   ]
  },
  {
   "cell_type": "code",
   "execution_count": 1,
   "metadata": {},
   "outputs": [],
   "source": [
    "# Import libraries\n",
    "import matplotlib.pyplot as plt\n",
    "import pandas as pd\n",
    "import numpy as np\n",
    "import scipy.stats as st"
   ]
  },
  {
   "cell_type": "code",
   "execution_count": 2,
   "metadata": {},
   "outputs": [],
   "source": [
    "# Import csv files\n",
    "movies = pd.read_csv('IMDb movies.csv')\n",
    "# actors = pd.read_csv('IMDb names.csv')\n",
    "# ratings = pd.read_csv('IMDb ratings.csv')\n",
    "title_principals = pd.read_csv('IMDb title_principals.csv')"
   ]
  },
  {
   "cell_type": "code",
   "execution_count": 3,
   "metadata": {},
   "outputs": [],
   "source": [
    "movies = pd.DataFrame(movies)\n",
    "# actors = pd.DataFrame(actors)\n",
    "# ratings = pd.DataFrame(ratings)\n",
    "title_principals = pd.DataFrame(title_principals)"
   ]
  },
  {
   "cell_type": "code",
   "execution_count": 4,
   "metadata": {},
   "outputs": [
    {
     "data": {
      "text/plain": "imdb_title_id            81273\ntitle                    81273\noriginal_title           81273\nyear                     81273\ndate_published           81273\ngenre                    81273\nduration                 81273\ncountry                  81234\nlanguage                 80518\ndirector                 81200\nwriter                   79780\nproduction_company       76948\nactors                   81207\ndescription              78843\navg_vote                 81273\nvotes                    81273\nbudget                   22804\nusa_gross_income         15094\nworlwide_gross_income    29892\nmetascore                12722\nreviews_from_users       74196\nreviews_from_critics     70286\ndtype: int64"
     },
     "execution_count": 4,
     "metadata": {},
     "output_type": "execute_result"
    }
   ],
   "source": [
    "movies.count()"
   ]
  },
  {
   "cell_type": "markdown",
   "execution_count": null,
   "metadata": {},
   "outputs": [],
   "source": [
    "Cleaning Data"
   ]
  },
  {
   "cell_type": "code",
   "execution_count": 5,
   "metadata": {},
   "outputs": [
    {
     "data": {
      "text/html": "<div>\n<style scoped>\n    .dataframe tbody tr th:only-of-type {\n        vertical-align: middle;\n    }\n\n    .dataframe tbody tr th {\n        vertical-align: top;\n    }\n\n    .dataframe thead th {\n        text-align: right;\n    }\n</style>\n<table border=\"1\" class=\"dataframe\">\n  <thead>\n    <tr style=\"text-align: right;\">\n      <th></th>\n      <th>imdb_title_id</th>\n      <th>title</th>\n      <th>year</th>\n      <th>date_published</th>\n      <th>genre</th>\n      <th>country</th>\n      <th>language</th>\n      <th>director</th>\n      <th>writer</th>\n      <th>production_company</th>\n      <th>actors</th>\n      <th>avg_vote</th>\n      <th>votes</th>\n      <th>budget</th>\n      <th>usa_gross_income</th>\n      <th>worlwide_gross_income</th>\n      <th>metascore</th>\n    </tr>\n  </thead>\n  <tbody>\n    <tr>\n      <td>1</td>\n      <td>tt0021749</td>\n      <td>City Lights</td>\n      <td>1931</td>\n      <td>1931-08-21</td>\n      <td>Comedy, Drama, Romance</td>\n      <td>USA</td>\n      <td>English</td>\n      <td>Charles Chaplin</td>\n      <td>Charles Chaplin</td>\n      <td>Charles Chaplin Productions</td>\n      <td>Virginia Cherrill, Florence Lee, Harry Myers, ...</td>\n      <td>8.5</td>\n      <td>152716</td>\n      <td>1500000</td>\n      <td>19181</td>\n      <td>32609</td>\n      <td>99.0</td>\n    </tr>\n    <tr>\n      <td>2</td>\n      <td>tt0027977</td>\n      <td>Modern Times</td>\n      <td>1936</td>\n      <td>1936-10-16</td>\n      <td>Comedy, Drama, Family</td>\n      <td>USA</td>\n      <td>English</td>\n      <td>Charles Chaplin</td>\n      <td>Charles Chaplin</td>\n      <td>Charles Chaplin Productions</td>\n      <td>Charles Chaplin, Paulette Goddard, Henry Bergm...</td>\n      <td>8.5</td>\n      <td>197969</td>\n      <td>1500000</td>\n      <td>163577</td>\n      <td>445226</td>\n      <td>96.0</td>\n    </tr>\n    <tr>\n      <td>3</td>\n      <td>tt0029583</td>\n      <td>Snow White and the Seven Dwarfs</td>\n      <td>1937</td>\n      <td>1938-07-08</td>\n      <td>Animation, Family, Fantasy</td>\n      <td>USA</td>\n      <td>English</td>\n      <td>William Cottrell, David Hand</td>\n      <td>Jacob Grimm, Wilhelm Grimm</td>\n      <td>Walt Disney Productions</td>\n      <td>Roy Atwell, Stuart Buchanan, Adriana Caselotti...</td>\n      <td>7.6</td>\n      <td>168735</td>\n      <td>1499000</td>\n      <td>184925486</td>\n      <td>184925486</td>\n      <td>95.0</td>\n    </tr>\n    <tr>\n      <td>4</td>\n      <td>tt0031381</td>\n      <td>Gone with the Wind</td>\n      <td>1939</td>\n      <td>1942-09-04</td>\n      <td>Drama, History, Romance</td>\n      <td>USA</td>\n      <td>English</td>\n      <td>Victor Fleming, George Cukor</td>\n      <td>Margaret Mitchell, Sidney Howard</td>\n      <td>Selznick International Pictures</td>\n      <td>Thomas Mitchell, Barbara O'Neil, Vivien Leigh,...</td>\n      <td>8.1</td>\n      <td>269664</td>\n      <td>3977000</td>\n      <td>200852579</td>\n      <td>402352579</td>\n      <td>97.0</td>\n    </tr>\n    <tr>\n      <td>5</td>\n      <td>tt0031679</td>\n      <td>Mr. Smith Goes to Washington</td>\n      <td>1939</td>\n      <td>1940-05-03</td>\n      <td>Comedy, Drama</td>\n      <td>USA</td>\n      <td>English</td>\n      <td>Frank Capra</td>\n      <td>Sidney Buchman, Lewis R. Foster</td>\n      <td>Columbia Pictures</td>\n      <td>Jean Arthur, James Stewart, Claude Rains, Edwa...</td>\n      <td>8.1</td>\n      <td>100206</td>\n      <td>1900000</td>\n      <td>144738</td>\n      <td>144738</td>\n      <td>73.0</td>\n    </tr>\n    <tr>\n      <td>...</td>\n      <td>...</td>\n      <td>...</td>\n      <td>...</td>\n      <td>...</td>\n      <td>...</td>\n      <td>...</td>\n      <td>...</td>\n      <td>...</td>\n      <td>...</td>\n      <td>...</td>\n      <td>...</td>\n      <td>...</td>\n      <td>...</td>\n      <td>...</td>\n      <td>...</td>\n      <td>...</td>\n      <td>...</td>\n    </tr>\n    <tr>\n      <td>6459</td>\n      <td>tt8772262</td>\n      <td>Midsommar</td>\n      <td>2019</td>\n      <td>2019-07-03</td>\n      <td>Drama, Horror, Mystery</td>\n      <td>USA, Sweden, Hungary</td>\n      <td>English, Swedish</td>\n      <td>Ari Aster</td>\n      <td>Ari Aster</td>\n      <td>Proton Cinema</td>\n      <td>Florence Pugh, Jack Reynor, Vilhelm Blomgren, ...</td>\n      <td>7.2</td>\n      <td>78830</td>\n      <td>10000000</td>\n      <td>27426361</td>\n      <td>41123770</td>\n      <td>72.0</td>\n    </tr>\n    <tr>\n      <td>6460</td>\n      <td>tt9024106</td>\n      <td>Unplanned</td>\n      <td>2019</td>\n      <td>2019-10-04</td>\n      <td>Biography, Drama</td>\n      <td>USA</td>\n      <td>English</td>\n      <td>Chuck Konzelman, Cary Solomon</td>\n      <td>Abby Johnson, Chuck Konzelman</td>\n      <td>Unplanned Movie</td>\n      <td>Ashley Bratcher, Brooks Ryan, Robia Scott, Jar...</td>\n      <td>5.8</td>\n      <td>10783</td>\n      <td>6000000</td>\n      <td>19005109</td>\n      <td>19320481</td>\n      <td>10.0</td>\n    </tr>\n    <tr>\n      <td>6461</td>\n      <td>tt9082020</td>\n      <td>Cold Blood Legacy</td>\n      <td>2019</td>\n      <td>2019-05-15</td>\n      <td>Action, Thriller</td>\n      <td>France, Ukraine, Belgium</td>\n      <td>French, English</td>\n      <td>Frédéric Petitjean</td>\n      <td>Frédéric Petitjean</td>\n      <td>Ascot Elite Entertainment Group</td>\n      <td>Jean Reno, Sarah Lind, Joe Anderson, David Gya...</td>\n      <td>4.5</td>\n      <td>2193</td>\n      <td>2700000</td>\n      <td>5083</td>\n      <td>1009888</td>\n      <td>25.0</td>\n    </tr>\n    <tr>\n      <td>6462</td>\n      <td>tt9134216</td>\n      <td>Playing with Fire</td>\n      <td>2019</td>\n      <td>2019-11-08</td>\n      <td>Comedy, Family</td>\n      <td>USA</td>\n      <td>English</td>\n      <td>Andy Fickman</td>\n      <td>Dan Ewen, Matt Lieberman</td>\n      <td>Broken Road Productions</td>\n      <td>John Cena, Keegan-Michael Key, John Leguizamo,...</td>\n      <td>4.5</td>\n      <td>1067</td>\n      <td>29900000</td>\n      <td>18847824</td>\n      <td>21788746</td>\n      <td>24.0</td>\n    </tr>\n    <tr>\n      <td>6463</td>\n      <td>tt9354944</td>\n      <td>Jexi</td>\n      <td>2019</td>\n      <td>2019-10-11</td>\n      <td>Comedy</td>\n      <td>USA</td>\n      <td>English</td>\n      <td>Jon Lucas, Scott Moore</td>\n      <td>Jon Lucas, Scott Moore</td>\n      <td>CBS Films</td>\n      <td>Adam Devine, Alexandra Shipp, Rose Byrne, Ron ...</td>\n      <td>6.6</td>\n      <td>3674</td>\n      <td>5000000</td>\n      <td>6546159</td>\n      <td>7257918</td>\n      <td>39.0</td>\n    </tr>\n  </tbody>\n</table>\n<p>5914 rows × 17 columns</p>\n</div>",
      "text/plain": "     imdb_title_id                            title  year date_published  \\\n1        tt0021749                      City Lights  1931     1931-08-21   \n2        tt0027977                     Modern Times  1936     1936-10-16   \n3        tt0029583  Snow White and the Seven Dwarfs  1937     1938-07-08   \n4        tt0031381               Gone with the Wind  1939     1942-09-04   \n5        tt0031679     Mr. Smith Goes to Washington  1939     1940-05-03   \n...            ...                              ...   ...            ...   \n6459     tt8772262                        Midsommar  2019     2019-07-03   \n6460     tt9024106                        Unplanned  2019     2019-10-04   \n6461     tt9082020                Cold Blood Legacy  2019     2019-05-15   \n6462     tt9134216                Playing with Fire  2019     2019-11-08   \n6463     tt9354944                             Jexi  2019     2019-10-11   \n\n                           genre                   country          language  \\\n1         Comedy, Drama, Romance                       USA           English   \n2          Comedy, Drama, Family                       USA           English   \n3     Animation, Family, Fantasy                       USA           English   \n4        Drama, History, Romance                       USA           English   \n5                  Comedy, Drama                       USA           English   \n...                          ...                       ...               ...   \n6459      Drama, Horror, Mystery      USA, Sweden, Hungary  English, Swedish   \n6460            Biography, Drama                       USA           English   \n6461            Action, Thriller  France, Ukraine, Belgium   French, English   \n6462              Comedy, Family                       USA           English   \n6463                      Comedy                       USA           English   \n\n                           director                            writer  \\\n1                   Charles Chaplin                   Charles Chaplin   \n2                   Charles Chaplin                   Charles Chaplin   \n3      William Cottrell, David Hand        Jacob Grimm, Wilhelm Grimm   \n4      Victor Fleming, George Cukor  Margaret Mitchell, Sidney Howard   \n5                       Frank Capra   Sidney Buchman, Lewis R. Foster   \n...                             ...                               ...   \n6459                      Ari Aster                         Ari Aster   \n6460  Chuck Konzelman, Cary Solomon     Abby Johnson, Chuck Konzelman   \n6461             Frédéric Petitjean                Frédéric Petitjean   \n6462                   Andy Fickman          Dan Ewen, Matt Lieberman   \n6463         Jon Lucas, Scott Moore            Jon Lucas, Scott Moore   \n\n                   production_company  \\\n1         Charles Chaplin Productions   \n2         Charles Chaplin Productions   \n3             Walt Disney Productions   \n4     Selznick International Pictures   \n5                   Columbia Pictures   \n...                               ...   \n6459                    Proton Cinema   \n6460                  Unplanned Movie   \n6461  Ascot Elite Entertainment Group   \n6462          Broken Road Productions   \n6463                        CBS Films   \n\n                                                 actors  avg_vote   votes  \\\n1     Virginia Cherrill, Florence Lee, Harry Myers, ...       8.5  152716   \n2     Charles Chaplin, Paulette Goddard, Henry Bergm...       8.5  197969   \n3     Roy Atwell, Stuart Buchanan, Adriana Caselotti...       7.6  168735   \n4     Thomas Mitchell, Barbara O'Neil, Vivien Leigh,...       8.1  269664   \n5     Jean Arthur, James Stewart, Claude Rains, Edwa...       8.1  100206   \n...                                                 ...       ...     ...   \n6459  Florence Pugh, Jack Reynor, Vilhelm Blomgren, ...       7.2   78830   \n6460  Ashley Bratcher, Brooks Ryan, Robia Scott, Jar...       5.8   10783   \n6461  Jean Reno, Sarah Lind, Joe Anderson, David Gya...       4.5    2193   \n6462  John Cena, Keegan-Michael Key, John Leguizamo,...       4.5    1067   \n6463  Adam Devine, Alexandra Shipp, Rose Byrne, Ron ...       6.6    3674   \n\n         budget usa_gross_income worlwide_gross_income  metascore  \n1       1500000            19181                 32609       99.0  \n2       1500000           163577                445226       96.0  \n3       1499000        184925486             184925486       95.0  \n4       3977000        200852579             402352579       97.0  \n5       1900000           144738                144738       73.0  \n...         ...              ...                   ...        ...  \n6459   10000000         27426361              41123770       72.0  \n6460    6000000         19005109              19320481       10.0  \n6461    2700000             5083               1009888       25.0  \n6462   29900000         18847824              21788746       24.0  \n6463    5000000          6546159               7257918       39.0  \n\n[5914 rows x 17 columns]"
     },
     "execution_count": 5,
     "metadata": {},
     "output_type": "execute_result"
    }
   ],
   "source": [
    "# Delet columns that we don't need, drop all NaN and reset index\n",
    "movies = movies.drop(['reviews_from_users','reviews_from_critics','original_title','duration','description'],axis=1)\n",
    "movies = movies.dropna(how='any')\n",
    "movies = movies.reset_index(drop=True)\n",
    "\n",
    "# Delet budget and gross income in other currencies\n",
    "movies = movies[~movies['budget'].str.match(r'([A-Z]+)')]\n",
    "movies = movies[~movies['usa_gross_income'].str.match(r'($[A-Z]+\\w)')]\n",
    "movies = movies[~movies['worlwide_gross_income'].str.match(r'($[A-Z]+\\w)')]\n",
    "\n",
    "# Delet '$' symbol from table\n",
    "movies['budget'] = movies['budget'].str.replace('$','')\n",
    "movies['usa_gross_income'] = movies['usa_gross_income'].str.replace('$','')\n",
    "movies['worlwide_gross_income'] = movies['worlwide_gross_income'].str.replace('$','')\n",
    "\n",
    "movies"
   ]
  },
  {
   "cell_type": "code",
   "execution_count": 6,
   "metadata": {},
   "outputs": [],
   "source": [
    "# Convert budget and gross income to number\n",
    "movies['budget'] = pd.to_numeric(movies['budget'])\n",
    "movies['usa_gross_income'] = pd.to_numeric(movies['usa_gross_income'])\n",
    "movies['worlwide_gross_income'] = pd.to_numeric(movies['worlwide_gross_income'])\n",
    "\n",
    "# Transform values to k\n",
    "movies['budget'] = movies['budget']/100\n",
    "movies['usa_gross_income'] = movies['usa_gross_income']/100\n",
    "movies['worlwide_gross_income'] = movies['worlwide_gross_income']/100"
   ]
  },
  {
   "cell_type": "code",
   "execution_count": 9,
   "metadata": {},
   "outputs": [
    {
     "data": {
      "text/html": "<div>\n<style scoped>\n    .dataframe tbody tr th:only-of-type {\n        vertical-align: middle;\n    }\n\n    .dataframe tbody tr th {\n        vertical-align: top;\n    }\n\n    .dataframe thead th {\n        text-align: right;\n    }\n</style>\n<table border=\"1\" class=\"dataframe\">\n  <thead>\n    <tr style=\"text-align: right;\">\n      <th></th>\n      <th>title</th>\n      <th>budget</th>\n      <th>usa_gross_income</th>\n      <th>worlwide_gross_income</th>\n      <th>revenue_usa</th>\n      <th>revenue_worlwide</th>\n    </tr>\n  </thead>\n  <tbody>\n    <tr>\n      <td>1</td>\n      <td>City Lights</td>\n      <td>15000.0</td>\n      <td>191.81</td>\n      <td>326.09</td>\n      <td>-14808.19</td>\n      <td>-14673.91</td>\n    </tr>\n    <tr>\n      <td>2</td>\n      <td>Modern Times</td>\n      <td>15000.0</td>\n      <td>1635.77</td>\n      <td>4452.26</td>\n      <td>-13364.23</td>\n      <td>-10547.74</td>\n    </tr>\n    <tr>\n      <td>3</td>\n      <td>Snow White and the Seven Dwarfs</td>\n      <td>14990.0</td>\n      <td>1849254.86</td>\n      <td>1849254.86</td>\n      <td>1834264.86</td>\n      <td>1834264.86</td>\n    </tr>\n    <tr>\n      <td>4</td>\n      <td>Gone with the Wind</td>\n      <td>39770.0</td>\n      <td>2008525.79</td>\n      <td>4023525.79</td>\n      <td>1968755.79</td>\n      <td>3983755.79</td>\n    </tr>\n    <tr>\n      <td>5</td>\n      <td>Mr. Smith Goes to Washington</td>\n      <td>19000.0</td>\n      <td>1447.38</td>\n      <td>1447.38</td>\n      <td>-17552.62</td>\n      <td>-17552.62</td>\n    </tr>\n    <tr>\n      <td>...</td>\n      <td>...</td>\n      <td>...</td>\n      <td>...</td>\n      <td>...</td>\n      <td>...</td>\n      <td>...</td>\n    </tr>\n    <tr>\n      <td>6459</td>\n      <td>Midsommar</td>\n      <td>100000.0</td>\n      <td>274263.61</td>\n      <td>411237.70</td>\n      <td>174263.61</td>\n      <td>311237.70</td>\n    </tr>\n    <tr>\n      <td>6460</td>\n      <td>Unplanned</td>\n      <td>60000.0</td>\n      <td>190051.09</td>\n      <td>193204.81</td>\n      <td>130051.09</td>\n      <td>133204.81</td>\n    </tr>\n    <tr>\n      <td>6461</td>\n      <td>Cold Blood Legacy</td>\n      <td>27000.0</td>\n      <td>50.83</td>\n      <td>10098.88</td>\n      <td>-26949.17</td>\n      <td>-16901.12</td>\n    </tr>\n    <tr>\n      <td>6462</td>\n      <td>Playing with Fire</td>\n      <td>299000.0</td>\n      <td>188478.24</td>\n      <td>217887.46</td>\n      <td>-110521.76</td>\n      <td>-81112.54</td>\n    </tr>\n    <tr>\n      <td>6463</td>\n      <td>Jexi</td>\n      <td>50000.0</td>\n      <td>65461.59</td>\n      <td>72579.18</td>\n      <td>15461.59</td>\n      <td>22579.18</td>\n    </tr>\n  </tbody>\n</table>\n<p>5914 rows × 6 columns</p>\n</div>",
      "text/plain": "                                title    budget  usa_gross_income  \\\n1                         City Lights   15000.0            191.81   \n2                        Modern Times   15000.0           1635.77   \n3     Snow White and the Seven Dwarfs   14990.0        1849254.86   \n4                  Gone with the Wind   39770.0        2008525.79   \n5        Mr. Smith Goes to Washington   19000.0           1447.38   \n...                               ...       ...               ...   \n6459                        Midsommar  100000.0         274263.61   \n6460                        Unplanned   60000.0         190051.09   \n6461                Cold Blood Legacy   27000.0             50.83   \n6462                Playing with Fire  299000.0         188478.24   \n6463                             Jexi   50000.0          65461.59   \n\n      worlwide_gross_income  revenue_usa  revenue_worlwide  \n1                    326.09    -14808.19         -14673.91  \n2                   4452.26    -13364.23         -10547.74  \n3                1849254.86   1834264.86        1834264.86  \n4                4023525.79   1968755.79        3983755.79  \n5                   1447.38    -17552.62         -17552.62  \n...                     ...          ...               ...  \n6459              411237.70    174263.61         311237.70  \n6460              193204.81    130051.09         133204.81  \n6461               10098.88    -26949.17         -16901.12  \n6462              217887.46   -110521.76         -81112.54  \n6463               72579.18     15461.59          22579.18  \n\n[5914 rows x 6 columns]"
     },
     "execution_count": 9,
     "metadata": {},
     "output_type": "execute_result"
    }
   ],
   "source": [
    "# Create revenues from income minus budget\n",
    "revenue_us = movies['usa_gross_income'] - movies['budget']\n",
    "revenue_ww = movies['worlwide_gross_income'] - movies['budget']\n",
    "\n",
    "# Add values to dataframe\n",
    "movies['revenue_usa'] = revenue_us\n",
    "movies['revenue_worlwide'] = revenue_ww\n",
    "\n",
    "# Display preview of new columns\n",
    "movies[['title','budget','usa_gross_income','worlwide_gross_income','revenue_usa','revenue_worlwide']]"
   ]
  },
  {
   "cell_type": "markdown",
   "execution_count": null,
   "metadata": {},
   "outputs": [],
   "source": [
    "Summary stats"
   ]
  },
  {
   "cell_type": "code",
   "execution_count": 10,
   "metadata": {},
   "outputs": [],
   "source": [
    "# Group data base by director and count movies\n",
    "director = movies.groupby('director')\n",
    "director_movies = movies['director'].value_counts()\n",
    "\n",
    "# Stats information of budget\n",
    "director_budget_sum = director['budget'].sum()\n",
    "director_budget_mean = director['budget'].mean()\n",
    "director_budget_median = director['budget'].median()\n",
    "director_budget_var = director['budget'].var()\n",
    "director_budget_sem = director['budget'].sem()\n",
    "\n",
    "# # Stats information of revenue in us\n",
    "director_usrevenue_sum = director['revenue_usa'].sum()\n",
    "director_usrevenue_mean = director['revenue_usa'].mean()\n",
    "director_usrevenue_median = director['revenue_usa'].median()\n",
    "director_usrevenue_var = director['revenue_usa'].var()\n",
    "director_usrevenue_sem = director['revenue_usa'].sem()\n",
    "\n",
    "# Stats information of revenue\n",
    "director_wwrevenue_sum = director['revenue_worlwide'].sum()\n",
    "director_wwrevenue_mean = director['revenue_worlwide'].mean()\n",
    "director_wwrevenue_median = director['revenue_worlwide'].median()\n",
    "director_wwrevenue_var = director['revenue_worlwide'].var()\n",
    "director_wwrevenue_sem = director['revenue_worlwide'].sem()\n",
    "\n",
    "# Stats information of ratings\n",
    "director_ratings_sum = director['avg_vote'].sum()\n",
    "director_ratings_mean = director['avg_vote'].mean()\n",
    "director_ratings_median = director['avg_vote'].median()\n",
    "director_ratings_var = director['avg_vote'].var()\n",
    "director_ratings_sem = director['avg_vote'].sem()"
   ]
  },
  {
   "cell_type": "code",
   "execution_count": null,
   "metadata": {},
   "outputs": [],
   "source": []
  }
 ]
}